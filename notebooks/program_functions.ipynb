{
 "cells": [
  {
   "cell_type": "markdown",
   "metadata": {},
   "source": [
    "#### file path selection dialog"
   ]
  },
  {
   "cell_type": "code",
   "execution_count": 1,
   "metadata": {},
   "outputs": [],
   "source": [
    "import tkinter as tk\n",
    "from tkinter import filedialog\n",
    "# from typing import\n",
    "def select_file() -> bool:\n",
    "    root = tk.Tk()\n",
    "    root.withdraw()\n",
    "    file_path = filedialog.askopenfilename(title=\"Select a file\")\n",
    "    res = True\n",
    "    if file_path:\n",
    "        print(f\"Select file: {file_path}\")\n",
    "    else:\n",
    "        print(\"No file selected!\")\n",
    "        res = False\n",
    "    root.destroy()\n",
    "    return res"
   ]
  },
  {
   "cell_type": "code",
   "execution_count": 2,
   "metadata": {},
   "outputs": [
    {
     "name": "stdout",
     "output_type": "stream",
     "text": [
      "Select file: /Users/formaideveloper/LLM_excel/output_sample_★【給与】支給控除一覧.xlsx\n"
     ]
    },
    {
     "data": {
      "text/plain": [
       "True"
      ]
     },
     "execution_count": 2,
     "metadata": {},
     "output_type": "execute_result"
    }
   ],
   "source": [
    "select_file()"
   ]
  },
  {
   "cell_type": "code",
   "execution_count": 2,
   "metadata": {},
   "outputs": [],
   "source": [
    "def select_files() -> bool:\n",
    "    root = tk.Tk()\n",
    "    root.withdraw()\n",
    "    file_paths = filedialog.askopenfilenames(title=\"Select multiple files\")\n",
    "    res = True\n",
    "    if file_paths:\n",
    "        results = \"\\n\".join(file for file in file_paths)\n",
    "        print(f\"Select files: \\n{results}\")\n",
    "    else:\n",
    "        print(\"No files selected!\")\n",
    "        res = False\n",
    "    root.destroy()\n",
    "    return res"
   ]
  },
  {
   "cell_type": "code",
   "execution_count": 3,
   "metadata": {},
   "outputs": [
    {
     "name": "stdout",
     "output_type": "stream",
     "text": [
      "Select files: \n",
      "/Users/formaideveloper/LLM_excel/0924_テスト用データ(9月分) 2/INPUTデータ(9月)/納品物作成/2_yonosuke/①今月給与明細データ.csv\n",
      "/Users/formaideveloper/LLM_excel/0924_テスト用データ(9月分) 2/INPUTデータ(9月)/納品物作成/2_yonosuke/②前月Yonosuke確定.csv\n",
      "/Users/formaideveloper/LLM_excel/0924_テスト用データ(9月分) 2/INPUTデータ(9月)/納品物作成/2_yonosuke/③9月賞与データ.csv\n",
      "/Users/formaideveloper/LLM_excel/0924_テスト用データ(9月分) 2/INPUTデータ(9月)/納品物作成/2_yonosuke/④★【給与】支給控除一覧_2024.9.25_確定_20240918.xlsx\n"
     ]
    },
    {
     "data": {
      "text/plain": [
       "True"
      ]
     },
     "execution_count": 3,
     "metadata": {},
     "output_type": "execute_result"
    }
   ],
   "source": [
    "select_files()"
   ]
  },
  {
   "cell_type": "markdown",
   "metadata": {},
   "source": [
    "#### separation line"
   ]
  },
  {
   "cell_type": "code",
   "execution_count": 10,
   "metadata": {},
   "outputs": [],
   "source": [
    "def print_separation_line(length=80):\n",
    "    context = \"\".join(\"-\" for _ in range(length))\n",
    "    print(context)\n",
    "    print(context)"
   ]
  },
  {
   "cell_type": "code",
   "execution_count": 11,
   "metadata": {},
   "outputs": [
    {
     "name": "stdout",
     "output_type": "stream",
     "text": [
      "--------------------------------------------------------------------------------\n",
      "--------------------------------------------------------------------------------\n"
     ]
    }
   ],
   "source": [
    "print_separation_line()"
   ]
  },
  {
   "cell_type": "code",
   "execution_count": null,
   "metadata": {},
   "outputs": [],
   "source": []
  }
 ],
 "metadata": {
  "kernelspec": {
   "display_name": "LLM_env",
   "language": "python",
   "name": "python3"
  },
  "language_info": {
   "codemirror_mode": {
    "name": "ipython",
    "version": 3
   },
   "file_extension": ".py",
   "mimetype": "text/x-python",
   "name": "python",
   "nbconvert_exporter": "python",
   "pygments_lexer": "ipython3",
   "version": "3.10.14"
  }
 },
 "nbformat": 4,
 "nbformat_minor": 2
}
