{
 "cells": [
  {
   "cell_type": "code",
   "execution_count": 1,
   "metadata": {},
   "outputs": [],
   "source": [
    "from enum import Enum\n",
    "class IntentType(Enum):\n",
    "    TASK_START = \"task_start\"\n",
    "    QUESTION = \"question\"\n",
    "    FILE_UPLOAD = \"file_upload\"\n",
    "    CONFIRMATION = \"confirmation\"\n",
    "    RETURN_TO_MENU = \"return_to_menu\"\n",
    "    UNKNOWN = \"unknown\"\n"
   ]
  },
  {
   "cell_type": "code",
   "execution_count": 4,
   "metadata": {},
   "outputs": [
    {
     "name": "stdout",
     "output_type": "stream",
     "text": [
      "[<IntentType.TASK_START: 'task_start'>, <IntentType.QUESTION: 'question'>, <IntentType.FILE_UPLOAD: 'file_upload'>, <IntentType.CONFIRMATION: 'confirmation'>, <IntentType.RETURN_TO_MENU: 'return_to_menu'>, <IntentType.UNKNOWN: 'unknown'>]\n"
     ]
    }
   ],
   "source": [
    "print(list(IntentType))"
   ]
  },
  {
   "cell_type": "code",
   "execution_count": 8,
   "metadata": {},
   "outputs": [
    {
     "name": "stdout",
     "output_type": "stream",
     "text": [
      "IntentType.TASK_START\n",
      "IntentType.QUESTION\n",
      "IntentType.FILE_UPLOAD\n",
      "IntentType.CONFIRMATION\n",
      "IntentType.RETURN_TO_MENU\n",
      "IntentType.UNKNOWN\n"
     ]
    }
   ],
   "source": [
    "for item in list(IntentType):\n",
    "    print(str(item))"
   ]
  },
  {
   "cell_type": "code",
   "execution_count": 9,
   "metadata": {},
   "outputs": [
    {
     "name": "stdout",
     "output_type": "stream",
     "text": [
      "IntentType.TASK_START\n"
     ]
    }
   ],
   "source": [
    "print(IntentType(\"task_start\"))"
   ]
  },
  {
   "cell_type": "code",
   "execution_count": null,
   "metadata": {},
   "outputs": [],
   "source": []
  }
 ],
 "metadata": {
  "kernelspec": {
   "display_name": "LLM_env",
   "language": "python",
   "name": "python3"
  },
  "language_info": {
   "codemirror_mode": {
    "name": "ipython",
    "version": 3
   },
   "file_extension": ".py",
   "mimetype": "text/x-python",
   "name": "python",
   "nbconvert_exporter": "python",
   "pygments_lexer": "ipython3",
   "version": "3.10.14"
  }
 },
 "nbformat": 4,
 "nbformat_minor": 2
}
