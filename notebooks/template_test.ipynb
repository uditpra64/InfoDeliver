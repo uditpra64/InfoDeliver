{
 "cells": [
  {
   "cell_type": "code",
   "execution_count": 1,
   "metadata": {},
   "outputs": [],
   "source": [
    "from langchain_core.prompts import ChatPromptTemplate"
   ]
  },
  {
   "cell_type": "code",
   "execution_count": 10,
   "metadata": {},
   "outputs": [],
   "source": [
    "template = ChatPromptTemplate.from_messages([\n",
    "    (\"system\", \"you are a man\"),\n",
    "    (\"human\", \"I am a student.\"),\n",
    "    (\"human\", \"{question}\")])\n",
    "template_val = template.invoke(\n",
    "    \"I like playing basketball\"\n",
    ")"
   ]
  },
  {
   "cell_type": "code",
   "execution_count": 11,
   "metadata": {},
   "outputs": [
    {
     "name": "stdout",
     "output_type": "stream",
     "text": [
      "System: you are a man\n",
      "Human: I am a student.\n",
      "Human: I like playing basketball\n"
     ]
    }
   ],
   "source": [
    "print(template_val.to_string())"
   ]
  },
  {
   "cell_type": "code",
   "execution_count": 12,
   "metadata": {},
   "outputs": [
    {
     "name": "stdout",
     "output_type": "stream",
     "text": [
      "{'lc': 1, 'type': 'constructor', 'id': ['langchain', 'prompts', 'chat', 'ChatPromptValue'], 'kwargs': {'messages': [SystemMessage(content='you are a man', additional_kwargs={}, response_metadata={}), HumanMessage(content='I am a student.', additional_kwargs={}, response_metadata={}), HumanMessage(content='I like playing basketball', additional_kwargs={}, response_metadata={})]}}\n"
     ]
    }
   ],
   "source": [
    "print(template_val.to_json())"
   ]
  },
  {
   "cell_type": "code",
   "execution_count": 14,
   "metadata": {},
   "outputs": [
    {
     "name": "stdout",
     "output_type": "stream",
     "text": [
      "messages=[SystemMessage(content='you are a man', additional_kwargs={}, response_metadata={}), HumanMessage(content='I am a student.', additional_kwargs={}, response_metadata={}), HumanMessage(content='I like playing basketball', additional_kwargs={}, response_metadata={})]\n"
     ]
    }
   ],
   "source": [
    "template = ChatPromptTemplate.from_messages([\n",
    "    (\"system\", \"you are a man\"),\n",
    "    (\"human\", \"I am a student.\"),\n",
    "    (\"user\", \"{question}\")])\n",
    "template_val = template.invoke(\n",
    "    \"I like playing basketball\")\n",
    "print(template_val)"
   ]
  },
  {
   "cell_type": "code",
   "execution_count": null,
   "metadata": {},
   "outputs": [],
   "source": []
  }
 ],
 "metadata": {
  "kernelspec": {
   "display_name": "LLM_env",
   "language": "python",
   "name": "python3"
  },
  "language_info": {
   "codemirror_mode": {
    "name": "ipython",
    "version": 3
   },
   "file_extension": ".py",
   "mimetype": "text/x-python",
   "name": "python",
   "nbconvert_exporter": "python",
   "pygments_lexer": "ipython3",
   "version": "3.10.14"
  }
 },
 "nbformat": 4,
 "nbformat_minor": 2
}
