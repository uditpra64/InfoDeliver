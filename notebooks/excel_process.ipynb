{
 "cells": [
  {
   "cell_type": "code",
   "execution_count": 1,
   "metadata": {},
   "outputs": [],
   "source": [
    "import numpy as np\n",
    "import pandas as pd"
   ]
  },
  {
   "cell_type": "code",
   "execution_count": 6,
   "metadata": {},
   "outputs": [
    {
     "name": "stdout",
     "output_type": "stream",
     "text": [
      "         退職日    社員番号   氏名 雇用形態 生年月日 支給月の締め日   年齢   健保（翌月）  介護（翌月）   厚年（翌月）  \\\n",
      "0 2023-08-31  489281  NaN  NaN  NaT     NaN  NaN  12610.0     0.0  23790.0   \n",
      "1 2023-08-31  489315  NaN  NaN  NaT     NaN  NaN  10670.0     0.0  20130.0   \n",
      "2 2023-11-30  489672  NaN  NaN  NaT     NaN  NaN   8245.0  1445.0  15555.0   \n",
      "3 2023-12-31  489598  NaN  NaN  NaT     NaN  NaN  30070.0  5270.0  56730.0   \n",
      "4 2023-12-31  489697  NaN  NaN  NaT     NaN  NaN  11640.0     0.0  21960.0   \n",
      "\n",
      "   子育て拠出金（翌月） Unnamed: 11      厚年標報   翌月は？ 月変は？  \n",
      "0       936.0         NaN       NaN    NaN  NaN  \n",
      "1       792.0         NaN       NaN    NaN  NaN  \n",
      "2       612.0         NaN       NaN    NaN  NaN  \n",
      "3      2232.0         NaN  620000.0    NaN  NaN  \n",
      "4       864.0         NaN  240000.0  翌月65歳  NaN  \n"
     ]
    }
   ],
   "source": [
    "df = pd.read_excel(\"../テスト用データ_all/9月/2_★【給与】支給控除/⑤【更新用】★カーディナルヘルス様給与チェック表_202409.xlsx\", sheet_name=\"＿社保手修正一覧 (テスト用)\")\n",
    "print(df.head())"
   ]
  },
  {
   "cell_type": "code",
   "execution_count": 5,
   "metadata": {},
   "outputs": [
    {
     "name": "stdout",
     "output_type": "stream",
     "text": [
      "<class 'pandas.core.frame.DataFrame'>\n",
      "RangeIndex: 49 entries, 0 to 48\n",
      "Data columns (total 15 columns):\n",
      " #   Column       Non-Null Count  Dtype         \n",
      "---  ------       --------------  -----         \n",
      " 0   退職日          32 non-null     datetime64[ns]\n",
      " 1   社員番号         36 non-null     object        \n",
      " 2   氏名           15 non-null     object        \n",
      " 3   雇用形態         16 non-null     object        \n",
      " 4   生年月日         16 non-null     datetime64[ns]\n",
      " 5   支給月の締め日      16 non-null     object        \n",
      " 6   年齢           17 non-null     object        \n",
      " 7   健保（翌月）       47 non-null     float64       \n",
      " 8   介護（翌月）       47 non-null     float64       \n",
      " 9   厚年（翌月）       47 non-null     float64       \n",
      " 10  子育て拠出金（翌月）   47 non-null     float64       \n",
      " 11  Unnamed: 11  6 non-null      object        \n",
      " 12  厚年標報         29 non-null     float64       \n",
      " 13  翌月は？         25 non-null     object        \n",
      " 14  月変は？         12 non-null     object        \n",
      "dtypes: datetime64[ns](2), float64(5), object(8)\n",
      "memory usage: 5.9+ KB\n",
      "None\n"
     ]
    }
   ],
   "source": [
    "print(df.info())"
   ]
  },
  {
   "cell_type": "code",
   "execution_count": 7,
   "metadata": {},
   "outputs": [
    {
     "name": "stdout",
     "output_type": "stream",
     "text": [
      "<class 'pandas.core.frame.DataFrame'>\n",
      "RangeIndex: 49 entries, 0 to 48\n",
      "Data columns (total 14 columns):\n",
      " #   Column      Non-Null Count  Dtype         \n",
      "---  ------      --------------  -----         \n",
      " 0   退職日         32 non-null     datetime64[ns]\n",
      " 1   社員番号        36 non-null     object        \n",
      " 2   氏名          15 non-null     object        \n",
      " 3   雇用形態        16 non-null     object        \n",
      " 4   生年月日        16 non-null     datetime64[ns]\n",
      " 5   支給月の締め日     16 non-null     object        \n",
      " 6   年齢          17 non-null     object        \n",
      " 7   健保（翌月）      47 non-null     float64       \n",
      " 8   介護（翌月）      47 non-null     float64       \n",
      " 9   厚年（翌月）      47 non-null     float64       \n",
      " 10  子育て拠出金（翌月）  47 non-null     float64       \n",
      " 11  厚年標報        29 non-null     float64       \n",
      " 12  翌月は？        25 non-null     object        \n",
      " 13  月変は？        12 non-null     object        \n",
      "dtypes: datetime64[ns](2), float64(5), object(7)\n",
      "memory usage: 5.5+ KB\n",
      "None\n"
     ]
    }
   ],
   "source": [
    "df = df[[col for col in df.columns if col != \"Unnamed: 11\"]]\n",
    "print(df.info())"
   ]
  },
  {
   "cell_type": "code",
   "execution_count": 8,
   "metadata": {},
   "outputs": [],
   "source": [
    "df.to_csv(\"/Users/formaideveloper/LLM_excel/テスト用データ/9月/2_★【給与】支給控除/⑤【更新用】★カーディナルヘルス様給与チェック表_202409.csv\", index=False)"
   ]
  },
  {
   "cell_type": "code",
   "execution_count": 2,
   "metadata": {},
   "outputs": [],
   "source": [
    "df = pd.read_csv(\"/Users/formaideveloper/LLM_excel/テスト用データ_all/other_3/必要ファイル/漢字変換リスト.csv\")"
   ]
  },
  {
   "cell_type": "code",
   "execution_count": 3,
   "metadata": {},
   "outputs": [
    {
     "data": {
      "text/html": [
       "<div>\n",
       "<style scoped>\n",
       "    .dataframe tbody tr th:only-of-type {\n",
       "        vertical-align: middle;\n",
       "    }\n",
       "\n",
       "    .dataframe tbody tr th {\n",
       "        vertical-align: top;\n",
       "    }\n",
       "\n",
       "    .dataframe thead th {\n",
       "        text-align: right;\n",
       "    }\n",
       "</style>\n",
       "<table border=\"1\" class=\"dataframe\">\n",
       "  <thead>\n",
       "    <tr style=\"text-align: right;\">\n",
       "      <th></th>\n",
       "      <th>スタッフコード</th>\n",
       "      <th>変換対象</th>\n",
       "      <th>変換文字列</th>\n",
       "    </tr>\n",
       "  </thead>\n",
       "  <tbody>\n",
       "    <tr>\n",
       "      <th>0</th>\n",
       "      <td>954194</td>\n",
       "      <td>西脇</td>\n",
       "      <td>西𦚰</td>\n",
       "    </tr>\n",
       "  </tbody>\n",
       "</table>\n",
       "</div>"
      ],
      "text/plain": [
       "   スタッフコード 変換対象 変換文字列\n",
       "0   954194   西脇    西𦚰"
      ]
     },
     "execution_count": 3,
     "metadata": {},
     "output_type": "execute_result"
    }
   ],
   "source": [
    "df.head()"
   ]
  },
  {
   "cell_type": "code",
   "execution_count": 5,
   "metadata": {},
   "outputs": [
    {
     "data": {
      "text/html": [
       "<div>\n",
       "<style scoped>\n",
       "    .dataframe tbody tr th:only-of-type {\n",
       "        vertical-align: middle;\n",
       "    }\n",
       "\n",
       "    .dataframe tbody tr th {\n",
       "        vertical-align: top;\n",
       "    }\n",
       "\n",
       "    .dataframe thead th {\n",
       "        text-align: right;\n",
       "    }\n",
       "</style>\n",
       "<table border=\"1\" class=\"dataframe\">\n",
       "  <thead>\n",
       "    <tr style=\"text-align: right;\">\n",
       "      <th></th>\n",
       "      <th>スタッフコード</th>\n",
       "    </tr>\n",
       "  </thead>\n",
       "  <tbody>\n",
       "    <tr>\n",
       "      <th>count</th>\n",
       "      <td>1.0</td>\n",
       "    </tr>\n",
       "    <tr>\n",
       "      <th>mean</th>\n",
       "      <td>954194.0</td>\n",
       "    </tr>\n",
       "    <tr>\n",
       "      <th>std</th>\n",
       "      <td>NaN</td>\n",
       "    </tr>\n",
       "    <tr>\n",
       "      <th>min</th>\n",
       "      <td>954194.0</td>\n",
       "    </tr>\n",
       "    <tr>\n",
       "      <th>25%</th>\n",
       "      <td>954194.0</td>\n",
       "    </tr>\n",
       "    <tr>\n",
       "      <th>50%</th>\n",
       "      <td>954194.0</td>\n",
       "    </tr>\n",
       "    <tr>\n",
       "      <th>75%</th>\n",
       "      <td>954194.0</td>\n",
       "    </tr>\n",
       "    <tr>\n",
       "      <th>max</th>\n",
       "      <td>954194.0</td>\n",
       "    </tr>\n",
       "  </tbody>\n",
       "</table>\n",
       "</div>"
      ],
      "text/plain": [
       "        スタッフコード\n",
       "count       1.0\n",
       "mean   954194.0\n",
       "std         NaN\n",
       "min    954194.0\n",
       "25%    954194.0\n",
       "50%    954194.0\n",
       "75%    954194.0\n",
       "max    954194.0"
      ]
     },
     "execution_count": 5,
     "metadata": {},
     "output_type": "execute_result"
    }
   ],
   "source": [
    "df.describe(include=[\"int64\", \"float64\"])"
   ]
  },
  {
   "cell_type": "code",
   "execution_count": 6,
   "metadata": {},
   "outputs": [
    {
     "data": {
      "text/html": [
       "<div>\n",
       "<style scoped>\n",
       "    .dataframe tbody tr th:only-of-type {\n",
       "        vertical-align: middle;\n",
       "    }\n",
       "\n",
       "    .dataframe tbody tr th {\n",
       "        vertical-align: top;\n",
       "    }\n",
       "\n",
       "    .dataframe thead th {\n",
       "        text-align: right;\n",
       "    }\n",
       "</style>\n",
       "<table border=\"1\" class=\"dataframe\">\n",
       "  <thead>\n",
       "    <tr style=\"text-align: right;\">\n",
       "      <th></th>\n",
       "      <th>Unnamed: 0</th>\n",
       "      <th>退職日</th>\n",
       "      <th>社員番号</th>\n",
       "      <th>氏名</th>\n",
       "      <th>雇用形態</th>\n",
       "      <th>生年月日</th>\n",
       "      <th>支給月の締め日</th>\n",
       "      <th>年齢</th>\n",
       "      <th>健保（翌月）</th>\n",
       "      <th>介護（翌月）</th>\n",
       "      <th>厚年（翌月）</th>\n",
       "      <th>子育て拠出金（翌月）</th>\n",
       "      <th>厚年標報</th>\n",
       "      <th>翌月は？</th>\n",
       "      <th>月変は？</th>\n",
       "      <th>スタッフコード</th>\n",
       "    </tr>\n",
       "  </thead>\n",
       "  <tbody>\n",
       "    <tr>\n",
       "      <th>0</th>\n",
       "      <td>0</td>\n",
       "      <td>2023-08-31</td>\n",
       "      <td>489281</td>\n",
       "      <td>NaN</td>\n",
       "      <td>NaN</td>\n",
       "      <td>NaN</td>\n",
       "      <td>NaN</td>\n",
       "      <td>NaN</td>\n",
       "      <td>12610.0</td>\n",
       "      <td>0.0</td>\n",
       "      <td>23790.0</td>\n",
       "      <td>936.0</td>\n",
       "      <td>NaN</td>\n",
       "      <td>NaN</td>\n",
       "      <td>NaN</td>\n",
       "      <td>489281</td>\n",
       "    </tr>\n",
       "    <tr>\n",
       "      <th>1</th>\n",
       "      <td>1</td>\n",
       "      <td>2023-08-31</td>\n",
       "      <td>489315</td>\n",
       "      <td>NaN</td>\n",
       "      <td>NaN</td>\n",
       "      <td>NaN</td>\n",
       "      <td>NaN</td>\n",
       "      <td>NaN</td>\n",
       "      <td>10670.0</td>\n",
       "      <td>0.0</td>\n",
       "      <td>20130.0</td>\n",
       "      <td>792.0</td>\n",
       "      <td>NaN</td>\n",
       "      <td>NaN</td>\n",
       "      <td>NaN</td>\n",
       "      <td>489315</td>\n",
       "    </tr>\n",
       "    <tr>\n",
       "      <th>2</th>\n",
       "      <td>2</td>\n",
       "      <td>2023-11-30</td>\n",
       "      <td>489672</td>\n",
       "      <td>NaN</td>\n",
       "      <td>NaN</td>\n",
       "      <td>NaN</td>\n",
       "      <td>NaN</td>\n",
       "      <td>NaN</td>\n",
       "      <td>8245.0</td>\n",
       "      <td>1445.0</td>\n",
       "      <td>15555.0</td>\n",
       "      <td>612.0</td>\n",
       "      <td>NaN</td>\n",
       "      <td>NaN</td>\n",
       "      <td>NaN</td>\n",
       "      <td>489672</td>\n",
       "    </tr>\n",
       "    <tr>\n",
       "      <th>3</th>\n",
       "      <td>3</td>\n",
       "      <td>2023-12-31</td>\n",
       "      <td>489598</td>\n",
       "      <td>NaN</td>\n",
       "      <td>NaN</td>\n",
       "      <td>NaN</td>\n",
       "      <td>NaN</td>\n",
       "      <td>NaN</td>\n",
       "      <td>30070.0</td>\n",
       "      <td>5270.0</td>\n",
       "      <td>56730.0</td>\n",
       "      <td>2232.0</td>\n",
       "      <td>620000.0</td>\n",
       "      <td>NaN</td>\n",
       "      <td>NaN</td>\n",
       "      <td>489598</td>\n",
       "    </tr>\n",
       "    <tr>\n",
       "      <th>4</th>\n",
       "      <td>4</td>\n",
       "      <td>2023-12-31</td>\n",
       "      <td>489697</td>\n",
       "      <td>NaN</td>\n",
       "      <td>NaN</td>\n",
       "      <td>NaN</td>\n",
       "      <td>NaN</td>\n",
       "      <td>NaN</td>\n",
       "      <td>11640.0</td>\n",
       "      <td>0.0</td>\n",
       "      <td>21960.0</td>\n",
       "      <td>864.0</td>\n",
       "      <td>240000.0</td>\n",
       "      <td>翌月65歳</td>\n",
       "      <td>NaN</td>\n",
       "      <td>489697</td>\n",
       "    </tr>\n",
       "  </tbody>\n",
       "</table>\n",
       "</div>"
      ],
      "text/plain": [
       "   Unnamed: 0         退職日    社員番号  氏名 雇用形態 生年月日 支給月の締め日   年齢   健保（翌月）  介護（翌月）  \\\n",
       "0           0  2023-08-31  489281 NaN  NaN  NaN     NaN  NaN  12610.0     0.0   \n",
       "1           1  2023-08-31  489315 NaN  NaN  NaN     NaN  NaN  10670.0     0.0   \n",
       "2           2  2023-11-30  489672 NaN  NaN  NaN     NaN  NaN   8245.0  1445.0   \n",
       "3           3  2023-12-31  489598 NaN  NaN  NaN     NaN  NaN  30070.0  5270.0   \n",
       "4           4  2023-12-31  489697 NaN  NaN  NaN     NaN  NaN  11640.0     0.0   \n",
       "\n",
       "    厚年（翌月）  子育て拠出金（翌月）      厚年標報   翌月は？ 月変は？  スタッフコード  \n",
       "0  23790.0       936.0       NaN    NaN  NaN   489281  \n",
       "1  20130.0       792.0       NaN    NaN  NaN   489315  \n",
       "2  15555.0       612.0       NaN    NaN  NaN   489672  \n",
       "3  56730.0      2232.0  620000.0    NaN  NaN   489598  \n",
       "4  21960.0       864.0  240000.0  翌月65歳  NaN   489697  "
      ]
     },
     "execution_count": 6,
     "metadata": {},
     "output_type": "execute_result"
    }
   ],
   "source": [
    "df = pd.read_csv(\"/Users/formaideveloper/LLM_excel/application_env_not_embedded/data/カーディナルヘルス様給与チェック表_202409_for_task.csv\")\n",
    "df.head()"
   ]
  },
  {
   "cell_type": "code",
   "execution_count": 7,
   "metadata": {},
   "outputs": [],
   "source": [
    "df.to_csv(\"カーディナルヘルス様給与チェック表_202409_for_task.csv\", encoding=\"utf-8-sig\", index=False)"
   ]
  },
  {
   "cell_type": "code",
   "execution_count": 8,
   "metadata": {},
   "outputs": [],
   "source": [
    "df = pd.read_csv(\"/Users/formaideveloper/LLM_excel/application_env_embedded/data/支給・控除等一覧表_for_task.csv\")\n",
    "df.to_csv(\"支給・控除等一覧表_for_task.csv\", encoding=\"utf-8-sig\", index=False)\n"
   ]
  },
  {
   "cell_type": "code",
   "execution_count": 5,
   "metadata": {},
   "outputs": [
    {
     "data": {
      "text/html": [
       "<div>\n",
       "<style scoped>\n",
       "    .dataframe tbody tr th:only-of-type {\n",
       "        vertical-align: middle;\n",
       "    }\n",
       "\n",
       "    .dataframe tbody tr th {\n",
       "        vertical-align: top;\n",
       "    }\n",
       "\n",
       "    .dataframe thead th {\n",
       "        text-align: right;\n",
       "    }\n",
       "</style>\n",
       "<table border=\"1\" class=\"dataframe\">\n",
       "  <thead>\n",
       "    <tr style=\"text-align: right;\">\n",
       "      <th></th>\n",
       "      <th>退職日</th>\n",
       "      <th>社員番号</th>\n",
       "      <th>氏名</th>\n",
       "      <th>雇用形態</th>\n",
       "      <th>生年月日</th>\n",
       "      <th>支給月締め日</th>\n",
       "      <th>年齢</th>\n",
       "      <th>健保（当月）</th>\n",
       "      <th>健保（翌月）</th>\n",
       "      <th>介護（当月）</th>\n",
       "      <th>介護（翌月）</th>\n",
       "      <th>厚年（当月）</th>\n",
       "      <th>厚年（翌月）</th>\n",
       "      <th>子育て拠出金（当月）</th>\n",
       "      <th>子育て拠出金（翌月）</th>\n",
       "      <th>Unnamed: 15</th>\n",
       "      <th>厚年標報</th>\n",
       "      <th>翌月は？</th>\n",
       "      <th>月変は？</th>\n",
       "      <th>備考</th>\n",
       "    </tr>\n",
       "  </thead>\n",
       "  <tbody>\n",
       "    <tr>\n",
       "      <th>0</th>\n",
       "      <td>2023-08-31</td>\n",
       "      <td>489281.0</td>\n",
       "      <td>NaN</td>\n",
       "      <td>NaN</td>\n",
       "      <td>1958-08-02</td>\n",
       "      <td>2023-08-31 00:00:00</td>\n",
       "      <td>65才0ヶ月</td>\n",
       "      <td>NaN</td>\n",
       "      <td>12610.0</td>\n",
       "      <td>NaN</td>\n",
       "      <td>0.0</td>\n",
       "      <td>NaN</td>\n",
       "      <td>23790.0</td>\n",
       "      <td>NaN</td>\n",
       "      <td>936.0</td>\n",
       "      <td>NaN</td>\n",
       "      <td>NaN</td>\n",
       "      <td>NaN</td>\n",
       "      <td>NaN</td>\n",
       "      <td>NaN</td>\n",
       "    </tr>\n",
       "    <tr>\n",
       "      <th>1</th>\n",
       "      <td>2023-08-31</td>\n",
       "      <td>489315.0</td>\n",
       "      <td>NaN</td>\n",
       "      <td>NaN</td>\n",
       "      <td>1958-08-25</td>\n",
       "      <td>2023-08-31 00:00:00</td>\n",
       "      <td>65才0ヶ月</td>\n",
       "      <td>NaN</td>\n",
       "      <td>10670.0</td>\n",
       "      <td>NaN</td>\n",
       "      <td>0.0</td>\n",
       "      <td>NaN</td>\n",
       "      <td>20130.0</td>\n",
       "      <td>NaN</td>\n",
       "      <td>792.0</td>\n",
       "      <td>NaN</td>\n",
       "      <td>NaN</td>\n",
       "      <td>NaN</td>\n",
       "      <td>NaN</td>\n",
       "      <td>NaN</td>\n",
       "    </tr>\n",
       "    <tr>\n",
       "      <th>2</th>\n",
       "      <td>2023-09-30</td>\n",
       "      <td>865002.0</td>\n",
       "      <td>NaN</td>\n",
       "      <td>NaN</td>\n",
       "      <td>1988-01-30</td>\n",
       "      <td>2023-09-30 00:00:00</td>\n",
       "      <td>35才8ヶ月</td>\n",
       "      <td>NaN</td>\n",
       "      <td>22795.0</td>\n",
       "      <td>NaN</td>\n",
       "      <td>0.0</td>\n",
       "      <td>NaN</td>\n",
       "      <td>43005.0</td>\n",
       "      <td>NaN</td>\n",
       "      <td>1692.0</td>\n",
       "      <td>NaN</td>\n",
       "      <td>45590.0</td>\n",
       "      <td>0</td>\n",
       "      <td>86010</td>\n",
       "      <td>3384</td>\n",
       "    </tr>\n",
       "    <tr>\n",
       "      <th>3</th>\n",
       "      <td>2023-09-30</td>\n",
       "      <td>489370.0</td>\n",
       "      <td>NaN</td>\n",
       "      <td>NaN</td>\n",
       "      <td>1959-09-25</td>\n",
       "      <td>2023-09-30 00:00:00</td>\n",
       "      <td>64才0ヶ月</td>\n",
       "      <td>NaN</td>\n",
       "      <td>58685.0</td>\n",
       "      <td>NaN</td>\n",
       "      <td>10285.0</td>\n",
       "      <td>NaN</td>\n",
       "      <td>59475.0</td>\n",
       "      <td>NaN</td>\n",
       "      <td>2340.0</td>\n",
       "      <td>NaN</td>\n",
       "      <td>117370.0</td>\n",
       "      <td>20570</td>\n",
       "      <td>118950</td>\n",
       "      <td>4680</td>\n",
       "    </tr>\n",
       "    <tr>\n",
       "      <th>4</th>\n",
       "      <td>2023-09-30</td>\n",
       "      <td>862664.0</td>\n",
       "      <td>NaN</td>\n",
       "      <td>NaN</td>\n",
       "      <td>1984-09-13</td>\n",
       "      <td>2023-09-30 00:00:00</td>\n",
       "      <td>39才0ヶ月</td>\n",
       "      <td>NaN</td>\n",
       "      <td>25705.0</td>\n",
       "      <td>NaN</td>\n",
       "      <td>0.0</td>\n",
       "      <td>NaN</td>\n",
       "      <td>48495.0</td>\n",
       "      <td>NaN</td>\n",
       "      <td>1908.0</td>\n",
       "      <td>NaN</td>\n",
       "      <td>51410.0</td>\n",
       "      <td>0</td>\n",
       "      <td>96990</td>\n",
       "      <td>3816</td>\n",
       "    </tr>\n",
       "  </tbody>\n",
       "</table>\n",
       "</div>"
      ],
      "text/plain": [
       "         退職日      社員番号  氏名 雇用形態       生年月日               支給月締め日      年齢  \\\n",
       "0 2023-08-31  489281.0 NaN  NaN 1958-08-02  2023-08-31 00:00:00  65才0ヶ月   \n",
       "1 2023-08-31  489315.0 NaN  NaN 1958-08-25  2023-08-31 00:00:00  65才0ヶ月   \n",
       "2 2023-09-30  865002.0 NaN  NaN 1988-01-30  2023-09-30 00:00:00  35才8ヶ月   \n",
       "3 2023-09-30  489370.0 NaN  NaN 1959-09-25  2023-09-30 00:00:00  64才0ヶ月   \n",
       "4 2023-09-30  862664.0 NaN  NaN 1984-09-13  2023-09-30 00:00:00  39才0ヶ月   \n",
       "\n",
       "   健保（当月）   健保（翌月）  介護（当月）   介護（翌月）  厚年（当月）   厚年（翌月）  子育て拠出金（当月）  子育て拠出金（翌月）  \\\n",
       "0     NaN  12610.0     NaN      0.0     NaN  23790.0         NaN       936.0   \n",
       "1     NaN  10670.0     NaN      0.0     NaN  20130.0         NaN       792.0   \n",
       "2     NaN  22795.0     NaN      0.0     NaN  43005.0         NaN      1692.0   \n",
       "3     NaN  58685.0     NaN  10285.0     NaN  59475.0         NaN      2340.0   \n",
       "4     NaN  25705.0     NaN      0.0     NaN  48495.0         NaN      1908.0   \n",
       "\n",
       "   Unnamed: 15      厚年標報   翌月は？    月変は？    備考  \n",
       "0          NaN       NaN    NaN     NaN   NaN  \n",
       "1          NaN       NaN    NaN     NaN   NaN  \n",
       "2          NaN   45590.0      0   86010  3384  \n",
       "3          NaN  117370.0  20570  118950  4680  \n",
       "4          NaN   51410.0      0   96990  3816  "
      ]
     },
     "execution_count": 5,
     "metadata": {},
     "output_type": "execute_result"
    }
   ],
   "source": [
    "df = pd.read_excel(\"/Users/formaideveloper/LLM_excel/テスト用データ_all/★【給与】支給控除一覧_社保手修正一覧.xlsx\",\n",
    "        sheet_name=\"★【給与】支給控除一覧_社保手修正一覧\", header=1)\n",
    "df.head()"
   ]
  },
  {
   "cell_type": "code",
   "execution_count": 12,
   "metadata": {},
   "outputs": [
    {
     "data": {
      "text/html": [
       "<div>\n",
       "<style scoped>\n",
       "    .dataframe tbody tr th:only-of-type {\n",
       "        vertical-align: middle;\n",
       "    }\n",
       "\n",
       "    .dataframe tbody tr th {\n",
       "        vertical-align: top;\n",
       "    }\n",
       "\n",
       "    .dataframe thead th {\n",
       "        text-align: right;\n",
       "    }\n",
       "</style>\n",
       "<table border=\"1\" class=\"dataframe\">\n",
       "  <thead>\n",
       "    <tr style=\"text-align: right;\">\n",
       "      <th></th>\n",
       "      <th>会社</th>\n",
       "      <th>支給日</th>\n",
       "      <th>社員番号</th>\n",
       "      <th>氏名\\n（英語）</th>\n",
       "      <th>氏名</th>\n",
       "      <th>コストセンター</th>\n",
       "      <th>部門</th>\n",
       "      <th>雇用区分</th>\n",
       "      <th>就業区分</th>\n",
       "      <th>生年月日</th>\n",
       "      <th>...</th>\n",
       "      <th>深夜残業</th>\n",
       "      <th>法定外休日残業</th>\n",
       "      <th>法定休日残業</th>\n",
       "      <th>60時間超</th>\n",
       "      <th>代休控除日数</th>\n",
       "      <th>欠勤控除時間</th>\n",
       "      <th>遅刻早退欠勤控除時間</th>\n",
       "      <th>当月所定労働時間</th>\n",
       "      <th>給与　備考</th>\n",
       "      <th>Unnamed: 134</th>\n",
       "    </tr>\n",
       "  </thead>\n",
       "  <tbody>\n",
       "    <tr>\n",
       "      <th>0</th>\n",
       "      <td>NaN</td>\n",
       "      <td>NaT</td>\n",
       "      <td>491</td>\n",
       "      <td>NaN</td>\n",
       "      <td>NaN</td>\n",
       "      <td>NaN</td>\n",
       "      <td>NaN</td>\n",
       "      <td>NaN</td>\n",
       "      <td>NaN</td>\n",
       "      <td>NaT</td>\n",
       "      <td>...</td>\n",
       "      <td>86 days 23:35:00</td>\n",
       "      <td>9 days 23:47:00</td>\n",
       "      <td>2 days 03:29:00</td>\n",
       "      <td>0 days 01:10:00</td>\n",
       "      <td>7.0</td>\n",
       "      <td>0 days</td>\n",
       "      <td>9 days 06:15:00</td>\n",
       "      <td>376 days 03:00:00</td>\n",
       "      <td>NaN</td>\n",
       "      <td>NaN</td>\n",
       "    </tr>\n",
       "    <tr>\n",
       "      <th>1</th>\n",
       "      <td>NaN</td>\n",
       "      <td>2024-08-23</td>\n",
       "      <td>483187</td>\n",
       "      <td>NaN</td>\n",
       "      <td>NaN</td>\n",
       "      <td>8.110000e+09</td>\n",
       "      <td>NaN</td>\n",
       "      <td>正社員</td>\n",
       "      <td>一般_袋井_時間外あり</td>\n",
       "      <td>1983-09-21</td>\n",
       "      <td>...</td>\n",
       "      <td>0 days 00:00:00</td>\n",
       "      <td>0 days 00:00:00</td>\n",
       "      <td>0 days 00:00:00</td>\n",
       "      <td>0 days 00:00:00</td>\n",
       "      <td>0.0</td>\n",
       "      <td>0 days</td>\n",
       "      <td>0 days 00:00:00</td>\n",
       "      <td>0 days 00:00:00</td>\n",
       "      <td>NaN</td>\n",
       "      <td>NaN</td>\n",
       "    </tr>\n",
       "    <tr>\n",
       "      <th>2</th>\n",
       "      <td>NaN</td>\n",
       "      <td>2024-08-23</td>\n",
       "      <td>489280</td>\n",
       "      <td>NaN</td>\n",
       "      <td>NaN</td>\n",
       "      <td>8.110000e+09</td>\n",
       "      <td>NaN</td>\n",
       "      <td>ﾊﾟｰﾄ時給</td>\n",
       "      <td>時給_袋井</td>\n",
       "      <td>1959-11-24</td>\n",
       "      <td>...</td>\n",
       "      <td>0 days 00:00:00</td>\n",
       "      <td>0 days 07:00:00</td>\n",
       "      <td>0 days 00:00:00</td>\n",
       "      <td>0 days 00:00:00</td>\n",
       "      <td>0.0</td>\n",
       "      <td>0 days</td>\n",
       "      <td>0 days 00:00:00</td>\n",
       "      <td>4 days 23:00:00</td>\n",
       "      <td>所得税は「定額減税後所得税」の金額が控除されます。「所得税」と「定額減税額」の金額は控除され...</td>\n",
       "      <td>NaN</td>\n",
       "    </tr>\n",
       "    <tr>\n",
       "      <th>3</th>\n",
       "      <td>NaN</td>\n",
       "      <td>2024-08-23</td>\n",
       "      <td>489285</td>\n",
       "      <td>NaN</td>\n",
       "      <td>NaN</td>\n",
       "      <td>8.110000e+09</td>\n",
       "      <td>NaN</td>\n",
       "      <td>ﾊﾟｰﾄ時給</td>\n",
       "      <td>時給_袋井</td>\n",
       "      <td>1961-09-05</td>\n",
       "      <td>...</td>\n",
       "      <td>0 days 00:00:00</td>\n",
       "      <td>0 days 00:00:00</td>\n",
       "      <td>0 days 00:00:00</td>\n",
       "      <td>0 days 00:00:00</td>\n",
       "      <td>0.0</td>\n",
       "      <td>0 days</td>\n",
       "      <td>0 days 00:00:00</td>\n",
       "      <td>4 days 23:00:00</td>\n",
       "      <td>所得税は「定額減税後所得税」の金額が控除されます。「所得税」と「定額減税額」の金額は控除され...</td>\n",
       "      <td>NaN</td>\n",
       "    </tr>\n",
       "    <tr>\n",
       "      <th>4</th>\n",
       "      <td>NaN</td>\n",
       "      <td>2024-08-23</td>\n",
       "      <td>489296</td>\n",
       "      <td>NaN</td>\n",
       "      <td>NaN</td>\n",
       "      <td>8.110000e+09</td>\n",
       "      <td>NaN</td>\n",
       "      <td>ﾊﾟｰﾄ時給</td>\n",
       "      <td>時給_袋井</td>\n",
       "      <td>1965-05-24</td>\n",
       "      <td>...</td>\n",
       "      <td>0 days 00:00:00</td>\n",
       "      <td>0 days 00:00:00</td>\n",
       "      <td>0 days 00:00:00</td>\n",
       "      <td>0 days 00:00:00</td>\n",
       "      <td>0.0</td>\n",
       "      <td>0 days</td>\n",
       "      <td>0 days 00:00:00</td>\n",
       "      <td>4 days 23:00:00</td>\n",
       "      <td>所得税は「定額減税後所得税」の金額が控除されます。「所得税」と「定額減税額」の金額は控除され...</td>\n",
       "      <td>NaN</td>\n",
       "    </tr>\n",
       "  </tbody>\n",
       "</table>\n",
       "<p>5 rows × 135 columns</p>\n",
       "</div>"
      ],
      "text/plain": [
       "   会社        支給日    社員番号  氏名\\n（英語）  氏名       コストセンター  部門    雇用区分         就業区分  \\\n",
       "0 NaN        NaT     491       NaN NaN           NaN NaN     NaN          NaN   \n",
       "1 NaN 2024-08-23  483187       NaN NaN  8.110000e+09 NaN     正社員  一般_袋井_時間外あり   \n",
       "2 NaN 2024-08-23  489280       NaN NaN  8.110000e+09 NaN  ﾊﾟｰﾄ時給        時給_袋井   \n",
       "3 NaN 2024-08-23  489285       NaN NaN  8.110000e+09 NaN  ﾊﾟｰﾄ時給        時給_袋井   \n",
       "4 NaN 2024-08-23  489296       NaN NaN  8.110000e+09 NaN  ﾊﾟｰﾄ時給        時給_袋井   \n",
       "\n",
       "        生年月日  ...             深夜残業         法定外休日残業          法定休日残業  \\\n",
       "0        NaT  ... 86 days 23:35:00 9 days 23:47:00 2 days 03:29:00   \n",
       "1 1983-09-21  ...  0 days 00:00:00 0 days 00:00:00 0 days 00:00:00   \n",
       "2 1959-11-24  ...  0 days 00:00:00 0 days 07:00:00 0 days 00:00:00   \n",
       "3 1961-09-05  ...  0 days 00:00:00 0 days 00:00:00 0 days 00:00:00   \n",
       "4 1965-05-24  ...  0 days 00:00:00 0 days 00:00:00 0 days 00:00:00   \n",
       "\n",
       "            60時間超  代休控除日数  欠勤控除時間      遅刻早退欠勤控除時間          当月所定労働時間  \\\n",
       "0 0 days 01:10:00     7.0  0 days 9 days 06:15:00 376 days 03:00:00   \n",
       "1 0 days 00:00:00     0.0  0 days 0 days 00:00:00   0 days 00:00:00   \n",
       "2 0 days 00:00:00     0.0  0 days 0 days 00:00:00   4 days 23:00:00   \n",
       "3 0 days 00:00:00     0.0  0 days 0 days 00:00:00   4 days 23:00:00   \n",
       "4 0 days 00:00:00     0.0  0 days 0 days 00:00:00   4 days 23:00:00   \n",
       "\n",
       "                                               給与　備考  Unnamed: 134  \n",
       "0                                                NaN           NaN  \n",
       "1                                                NaN           NaN  \n",
       "2  所得税は「定額減税後所得税」の金額が控除されます。「所得税」と「定額減税額」の金額は控除され...           NaN  \n",
       "3  所得税は「定額減税後所得税」の金額が控除されます。「所得税」と「定額減税額」の金額は控除され...           NaN  \n",
       "4  所得税は「定額減税後所得税」の金額が控除されます。「所得税」と「定額減税額」の金額は控除され...           NaN  \n",
       "\n",
       "[5 rows x 135 columns]"
      ]
     },
     "execution_count": 12,
     "metadata": {},
     "output_type": "execute_result"
    }
   ],
   "source": [
    "df = pd.read_excel(\"/Users/formaideveloper/LLM_excel/テスト用データ_all/9月/2_★【給与】支給控除/⑥★【給与】支給控除一覧_2024.8.23_確定.xlsx\",\n",
    "        sheet_name=\"Sheet1\", header=3)\n",
    "df.head()"
   ]
  },
  {
   "cell_type": "code",
   "execution_count": 2,
   "metadata": {},
   "outputs": [
    {
     "data": {
      "text/html": [
       "<div>\n",
       "<style scoped>\n",
       "    .dataframe tbody tr th:only-of-type {\n",
       "        vertical-align: middle;\n",
       "    }\n",
       "\n",
       "    .dataframe tbody tr th {\n",
       "        vertical-align: top;\n",
       "    }\n",
       "\n",
       "    .dataframe thead th {\n",
       "        text-align: right;\n",
       "    }\n",
       "</style>\n",
       "<table border=\"1\" class=\"dataframe\">\n",
       "  <thead>\n",
       "    <tr style=\"text-align: right;\">\n",
       "      <th></th>\n",
       "      <th>社員番号</th>\n",
       "      <th>氏名</th>\n",
       "      <th>読み方</th>\n",
       "    </tr>\n",
       "  </thead>\n",
       "  <tbody>\n",
       "    <tr>\n",
       "      <th>0</th>\n",
       "      <td>xxxxx1</td>\n",
       "      <td>年末　一郎</td>\n",
       "      <td>ネンマツ　イチロウ</td>\n",
       "    </tr>\n",
       "    <tr>\n",
       "      <th>1</th>\n",
       "      <td>xxxxx2</td>\n",
       "      <td>年末　花子</td>\n",
       "      <td>ネンマツ　ハナコ</td>\n",
       "    </tr>\n",
       "  </tbody>\n",
       "</table>\n",
       "</div>"
      ],
      "text/plain": [
       "     社員番号     氏名        読み方\n",
       "0  xxxxx1  年末　一郎  ネンマツ　イチロウ\n",
       "1  xxxxx2  年末　花子   ネンマツ　ハナコ"
      ]
     },
     "execution_count": 2,
     "metadata": {},
     "output_type": "execute_result"
    }
   ],
   "source": [
    "df = pd.read_excel(\"/Users/formaideveloper/LLM_excel/notebooks/A社氏名一覧サンプル.xlsx\", sheet_name=\"Sheet1\", header=0)\n",
    "df.head()"
   ]
  },
  {
   "cell_type": "code",
   "execution_count": 5,
   "metadata": {},
   "outputs": [
    {
     "data": {
      "text/plain": [
       "['社員番号', '氏名', '読み方']"
      ]
     },
     "execution_count": 5,
     "metadata": {},
     "output_type": "execute_result"
    }
   ],
   "source": [
    "list(df.columns)"
   ]
  },
  {
   "cell_type": "code",
   "execution_count": 17,
   "metadata": {},
   "outputs": [
    {
     "name": "stdout",
     "output_type": "stream",
     "text": [
      "|    | 社員番号   | 氏名       | 読み方             |\n",
      "|---:|:-----------|:-----------|:-------------------|\n",
      "|  0 | xxxxx1     | 年末　一郎 | ネンマツ　イチロウ |\n",
      "|  1 | xxxxx2     | 年末　花子 | ネンマツ　ハナコ   |\n",
      "<class 'str'>\n"
     ]
    }
   ],
   "source": [
    "print(df.to_markdown())\n",
    "print(type(df.to_markdown()))\n"
   ]
  },
  {
   "cell_type": "code",
   "execution_count": 3,
   "metadata": {},
   "outputs": [
    {
     "name": "stdout",
     "output_type": "stream",
     "text": [
      "     社員番号     氏名        読み方\n",
      "0  xxxxx1  年末　一郎  ネンマツ　イチロウ\n"
     ]
    }
   ],
   "source": [
    "staff_row = df.loc[(df[\"社員番号\"] == \"xxxxx1\"), ['社員番号', '氏名', '読み方']\n",
    "]\n",
    "print(staff_row)"
   ]
  },
  {
   "cell_type": "code",
   "execution_count": 5,
   "metadata": {},
   "outputs": [
    {
     "name": "stdout",
     "output_type": "stream",
     "text": [
      "0\n"
     ]
    }
   ],
   "source": [
    "staff_row = df.loc[(df[\"社員番号\"] == \"xxxxx3\"), ['社員番号', '氏名', '読み方']\n",
    "]\n",
    "print(len(staff_row))"
   ]
  },
  {
   "cell_type": "code",
   "execution_count": 3,
   "metadata": {},
   "outputs": [],
   "source": [
    "df.to_csv(\"/Users/formaideveloper/LLM_excel/application_env_not_embedded/data/納品物作成2-2-1/★【給与】支給控除一覧_社保手修正一覧.csv\"\n",
    "          , encoding=\"utf-8-sig\", index=False)"
   ]
  },
  {
   "cell_type": "markdown",
   "metadata": {},
   "source": [
    "### Word Match\n"
   ]
  },
  {
   "cell_type": "code",
   "execution_count": 3,
   "metadata": {},
   "outputs": [
    {
     "name": "stdout",
     "output_type": "stream",
     "text": [
      "0.6956521739130435\n"
     ]
    }
   ],
   "source": [
    "from difflib import SequenceMatcher\n",
    "\n",
    "def similarity_ratio(word1, word2):\n",
    "    return SequenceMatcher(None, word1, word2).ratio()\n",
    "\n",
    "# Words to compare\n",
    "word1 = \"納品物作成1-1\"\n",
    "word2 = \"タスク名前: 納品物作成1-1\"\n",
    "\n",
    "similarity = similarity_ratio(word1, word2)\n",
    "print(similarity)"
   ]
  },
  {
   "cell_type": "code",
   "execution_count": 4,
   "metadata": {},
   "outputs": [
    {
     "name": "stdout",
     "output_type": "stream",
     "text": [
      "0.8888888888888888\n"
     ]
    }
   ],
   "source": [
    "# Words to compare\n",
    "word1 = \"納品物作成1-1\"\n",
    "word2 = \"`納品物作成1-1`\"\n",
    "\n",
    "similarity = similarity_ratio(word1, word2)\n",
    "print(similarity)"
   ]
  },
  {
   "cell_type": "code",
   "execution_count": 5,
   "metadata": {},
   "outputs": [
    {
     "name": "stdout",
     "output_type": "stream",
     "text": [
      "0.7777777777777778\n"
     ]
    }
   ],
   "source": [
    "# Words to compare\n",
    "word1 = \"納品物作成1-1\"\n",
    "word2 = \"`納品物作成1-2`\"\n",
    "\n",
    "similarity = similarity_ratio(word1, word2)\n",
    "print(similarity)"
   ]
  },
  {
   "cell_type": "code",
   "execution_count": 6,
   "metadata": {},
   "outputs": [
    {
     "name": "stdout",
     "output_type": "stream",
     "text": [
      "0.7777777777777778\n"
     ]
    }
   ],
   "source": [
    "# Words to compare\n",
    "word1 = \"納品物作成1-1\"\n",
    "word2 = \"`納品物作成1-7`\"\n",
    "\n",
    "similarity = similarity_ratio(word1, word2)\n",
    "print(similarity)"
   ]
  },
  {
   "cell_type": "code",
   "execution_count": 7,
   "metadata": {},
   "outputs": [
    {
     "name": "stdout",
     "output_type": "stream",
     "text": [
      "0.6086956521739131\n"
     ]
    }
   ],
   "source": [
    "# Words to compare\n",
    "word1 = \"納品物作成1-1\"\n",
    "word2 = \"タスク名前: 納品物作成1-2\"\n",
    "\n",
    "similarity = similarity_ratio(word1, word2)\n",
    "print(similarity)"
   ]
  },
  {
   "cell_type": "code",
   "execution_count": 8,
   "metadata": {},
   "outputs": [
    {
     "name": "stdout",
     "output_type": "stream",
     "text": [
      "0.56\n"
     ]
    }
   ],
   "source": [
    "# Words to compare\n",
    "word1 = \"納品物作成1-1\"\n",
    "word2 = \"タスク名前: 納品物作成4-1-2\"\n",
    "\n",
    "similarity = similarity_ratio(word1, word2)\n",
    "print(similarity)"
   ]
  },
  {
   "cell_type": "markdown",
   "metadata": {},
   "source": [
    "\"unnamed: *\" column processsing "
   ]
  },
  {
   "cell_type": "code",
   "execution_count": 9,
   "metadata": {},
   "outputs": [
    {
     "name": "stdout",
     "output_type": "stream",
     "text": [
      "   Unnamed: 0         退職日    社員番号  氏名 雇用形態 生年月日 支給月の締め日   年齢   健保（翌月）  介護（翌月）  \\\n",
      "0           0  2023-08-31  489281 NaN  NaN  NaN     NaN  NaN  12610.0     0.0   \n",
      "1           1  2023-08-31  489315 NaN  NaN  NaN     NaN  NaN  10670.0     0.0   \n",
      "2           2  2023-11-30  489672 NaN  NaN  NaN     NaN  NaN   8245.0  1445.0   \n",
      "3           3  2023-12-31  489598 NaN  NaN  NaN     NaN  NaN  30070.0  5270.0   \n",
      "4           4  2023-12-31  489697 NaN  NaN  NaN     NaN  NaN  11640.0     0.0   \n",
      "\n",
      "    厚年（翌月）  子育て拠出金（翌月）      厚年標報   翌月は？ 月変は？  スタッフコード  \n",
      "0  23790.0       936.0       NaN    NaN  NaN   489281  \n",
      "1  20130.0       792.0       NaN    NaN  NaN   489315  \n",
      "2  15555.0       612.0       NaN    NaN  NaN   489672  \n",
      "3  56730.0      2232.0  620000.0    NaN  NaN   489598  \n",
      "4  21960.0       864.0  240000.0  翌月65歳  NaN   489697  \n"
     ]
    }
   ],
   "source": [
    "path = \"/Users/formaideveloper/LLM_excel/application_v4_test/data/納品物作成1-1/カーディナルヘルス様給与チェック表_202409_for_task.csv\"\n",
    "df = pd.read_csv(path)\n",
    "print(df.head())"
   ]
  },
  {
   "cell_type": "code",
   "execution_count": 10,
   "metadata": {},
   "outputs": [
    {
     "name": "stdout",
     "output_type": "stream",
     "text": [
      "          退職日    社員番号  氏名 雇用形態 生年月日 支給月の締め日   年齢   健保（翌月）  介護（翌月）   厚年（翌月）  \\\n",
      "0  2023-08-31  489281 NaN  NaN  NaN     NaN  NaN  12610.0     0.0  23790.0   \n",
      "1  2023-08-31  489315 NaN  NaN  NaN     NaN  NaN  10670.0     0.0  20130.0   \n",
      "2  2023-11-30  489672 NaN  NaN  NaN     NaN  NaN   8245.0  1445.0  15555.0   \n",
      "3  2023-12-31  489598 NaN  NaN  NaN     NaN  NaN  30070.0  5270.0  56730.0   \n",
      "4  2023-12-31  489697 NaN  NaN  NaN     NaN  NaN  11640.0     0.0  21960.0   \n",
      "\n",
      "   子育て拠出金（翌月）      厚年標報   翌月は？ 月変は？  スタッフコード  \n",
      "0       936.0       NaN    NaN  NaN   489281  \n",
      "1       792.0       NaN    NaN  NaN   489315  \n",
      "2       612.0       NaN    NaN  NaN   489672  \n",
      "3      2232.0  620000.0    NaN  NaN   489598  \n",
      "4       864.0  240000.0  翌月65歳  NaN   489697  \n"
     ]
    }
   ],
   "source": [
    "columns = list(df.columns)\n",
    "df = df[columns[1:]]\n",
    "print(df.head())"
   ]
  },
  {
   "cell_type": "code",
   "execution_count": 11,
   "metadata": {},
   "outputs": [],
   "source": [
    "df.to_csv(path, index=False)"
   ]
  },
  {
   "cell_type": "markdown",
   "metadata": {},
   "source": [
    "file check"
   ]
  },
  {
   "cell_type": "code",
   "execution_count": 14,
   "metadata": {},
   "outputs": [],
   "source": [
    "def check_data_mismatch(sample: pd.DataFrame, uploaded: pd.DataFrame):\n",
    "    columns_match = set(sample.columns) == set(uploaded.columns)\n",
    "\n",
    "    if not columns_match:\n",
    "        column_diff = set(sample.columns) ^ set(uploaded.columns)  \n",
    "        return False, f\"アップロードされたファイルとサンプルファイルは以下の列名が違います：\\n{column_diff}\\n\""
   ]
  },
  {
   "cell_type": "code",
   "execution_count": 15,
   "metadata": {},
   "outputs": [],
   "source": [
    "path1 = \"/Users/formaideveloper/LLM_excel/application_v4_test/data/納品物作成1-1/支給・控除等一覧表.csv\"\n",
    "path2 = \"/Users/formaideveloper/LLM_excel/application_v4_test/data/納品物作成1-1/支給・控除等一覧表_給与_2024年09月25日支給.csv\"\n",
    "df1 = pd.read_csv(path1)\n",
    "df2 = pd.read_csv(path2)\n",
    "check_data_mismatch(df1, df2)"
   ]
  },
  {
   "cell_type": "code",
   "execution_count": 4,
   "metadata": {},
   "outputs": [
    {
     "data": {
      "text/html": [
       "<div>\n",
       "<style scoped>\n",
       "    .dataframe tbody tr th:only-of-type {\n",
       "        vertical-align: middle;\n",
       "    }\n",
       "\n",
       "    .dataframe tbody tr th {\n",
       "        vertical-align: top;\n",
       "    }\n",
       "\n",
       "    .dataframe thead th {\n",
       "        text-align: right;\n",
       "    }\n",
       "</style>\n",
       "<table border=\"1\" class=\"dataframe\">\n",
       "  <thead>\n",
       "    <tr style=\"text-align: right;\">\n",
       "      <th></th>\n",
       "      <th>介護保険：40歳到達前日　介護保険喪失：65歳到達前日　厚生年金保険：70歳到達前日　健康保険：75歳到達前日</th>\n",
       "      <th>Unnamed: 1</th>\n",
       "      <th>Unnamed: 2</th>\n",
       "      <th>Unnamed: 3</th>\n",
       "      <th>Unnamed: 4</th>\n",
       "      <th>Unnamed: 5</th>\n",
       "      <th>Unnamed: 6</th>\n",
       "      <th>Unnamed: 7</th>\n",
       "      <th>Unnamed: 8</th>\n",
       "      <th>Unnamed: 9</th>\n",
       "      <th>Unnamed: 10</th>\n",
       "      <th>Unnamed: 11</th>\n",
       "      <th>Unnamed: 12</th>\n",
       "      <th>Unnamed: 13</th>\n",
       "      <th>Unnamed: 14</th>\n",
       "      <th>Unnamed: 15</th>\n",
       "      <th>Unnamed: 16</th>\n",
       "      <th>Unnamed: 17</th>\n",
       "      <th>Unnamed: 18</th>\n",
       "      <th>Unnamed: 19</th>\n",
       "    </tr>\n",
       "  </thead>\n",
       "  <tbody>\n",
       "    <tr>\n",
       "      <th>0</th>\n",
       "      <td>退職日</td>\n",
       "      <td>社員番号</td>\n",
       "      <td>氏名</td>\n",
       "      <td>雇用形態</td>\n",
       "      <td>生年月日</td>\n",
       "      <td>支給月締め日</td>\n",
       "      <td>年齢</td>\n",
       "      <td>健保（当月）</td>\n",
       "      <td>健保（翌月）</td>\n",
       "      <td>介護（当月）</td>\n",
       "      <td>介護（翌月）</td>\n",
       "      <td>厚年（当月）</td>\n",
       "      <td>厚年（翌月）</td>\n",
       "      <td>子育て拠出金（当月）</td>\n",
       "      <td>子育て拠出金（翌月）</td>\n",
       "      <td>NaN</td>\n",
       "      <td>厚年標報</td>\n",
       "      <td>翌月は？</td>\n",
       "      <td>月変は？</td>\n",
       "      <td>備考</td>\n",
       "    </tr>\n",
       "    <tr>\n",
       "      <th>1</th>\n",
       "      <td>2023-08-31 00:00:00</td>\n",
       "      <td>489281</td>\n",
       "      <td>NaN</td>\n",
       "      <td>NaN</td>\n",
       "      <td>1958-08-02 00:00:00</td>\n",
       "      <td>2023-08-31 00:00:00</td>\n",
       "      <td>65才0ヶ月</td>\n",
       "      <td>NaN</td>\n",
       "      <td>12610</td>\n",
       "      <td>NaN</td>\n",
       "      <td>0</td>\n",
       "      <td>NaN</td>\n",
       "      <td>23790</td>\n",
       "      <td>NaN</td>\n",
       "      <td>936</td>\n",
       "      <td>NaN</td>\n",
       "      <td>NaN</td>\n",
       "      <td>NaN</td>\n",
       "      <td>NaN</td>\n",
       "      <td>NaN</td>\n",
       "    </tr>\n",
       "    <tr>\n",
       "      <th>2</th>\n",
       "      <td>2023-08-31 00:00:00</td>\n",
       "      <td>489315</td>\n",
       "      <td>NaN</td>\n",
       "      <td>NaN</td>\n",
       "      <td>1958-08-25 00:00:00</td>\n",
       "      <td>2023-08-31 00:00:00</td>\n",
       "      <td>65才0ヶ月</td>\n",
       "      <td>NaN</td>\n",
       "      <td>10670</td>\n",
       "      <td>NaN</td>\n",
       "      <td>0</td>\n",
       "      <td>NaN</td>\n",
       "      <td>20130</td>\n",
       "      <td>NaN</td>\n",
       "      <td>792</td>\n",
       "      <td>NaN</td>\n",
       "      <td>NaN</td>\n",
       "      <td>NaN</td>\n",
       "      <td>NaN</td>\n",
       "      <td>NaN</td>\n",
       "    </tr>\n",
       "    <tr>\n",
       "      <th>3</th>\n",
       "      <td>2023-09-30 00:00:00</td>\n",
       "      <td>865002</td>\n",
       "      <td>NaN</td>\n",
       "      <td>NaN</td>\n",
       "      <td>1988-01-30 00:00:00</td>\n",
       "      <td>2023-09-30 00:00:00</td>\n",
       "      <td>35才8ヶ月</td>\n",
       "      <td>NaN</td>\n",
       "      <td>22795</td>\n",
       "      <td>NaN</td>\n",
       "      <td>0</td>\n",
       "      <td>NaN</td>\n",
       "      <td>43005</td>\n",
       "      <td>NaN</td>\n",
       "      <td>1692</td>\n",
       "      <td>NaN</td>\n",
       "      <td>45590</td>\n",
       "      <td>0</td>\n",
       "      <td>86010</td>\n",
       "      <td>3384</td>\n",
       "    </tr>\n",
       "    <tr>\n",
       "      <th>4</th>\n",
       "      <td>2023-09-30 00:00:00</td>\n",
       "      <td>489370</td>\n",
       "      <td>NaN</td>\n",
       "      <td>NaN</td>\n",
       "      <td>1959-09-25 00:00:00</td>\n",
       "      <td>2023-09-30 00:00:00</td>\n",
       "      <td>64才0ヶ月</td>\n",
       "      <td>NaN</td>\n",
       "      <td>58685</td>\n",
       "      <td>NaN</td>\n",
       "      <td>10285</td>\n",
       "      <td>NaN</td>\n",
       "      <td>59475</td>\n",
       "      <td>NaN</td>\n",
       "      <td>2340</td>\n",
       "      <td>NaN</td>\n",
       "      <td>117370</td>\n",
       "      <td>20570</td>\n",
       "      <td>118950</td>\n",
       "      <td>4680</td>\n",
       "    </tr>\n",
       "  </tbody>\n",
       "</table>\n",
       "</div>"
      ],
      "text/plain": [
       "  介護保険：40歳到達前日　介護保険喪失：65歳到達前日　厚生年金保険：70歳到達前日　健康保険：75歳到達前日 Unnamed: 1  \\\n",
       "0                                                退職日            社員番号   \n",
       "1                                2023-08-31 00:00:00          489281   \n",
       "2                                2023-08-31 00:00:00          489315   \n",
       "3                                2023-09-30 00:00:00          865002   \n",
       "4                                2023-09-30 00:00:00          489370   \n",
       "\n",
       "  Unnamed: 2 Unnamed: 3           Unnamed: 4           Unnamed: 5 Unnamed: 6  \\\n",
       "0         氏名       雇用形態                 生年月日               支給月締め日         年齢   \n",
       "1        NaN        NaN  1958-08-02 00:00:00  2023-08-31 00:00:00     65才0ヶ月   \n",
       "2        NaN        NaN  1958-08-25 00:00:00  2023-08-31 00:00:00     65才0ヶ月   \n",
       "3        NaN        NaN  1988-01-30 00:00:00  2023-09-30 00:00:00     35才8ヶ月   \n",
       "4        NaN        NaN  1959-09-25 00:00:00  2023-09-30 00:00:00     64才0ヶ月   \n",
       "\n",
       "  Unnamed: 7 Unnamed: 8 Unnamed: 9 Unnamed: 10 Unnamed: 11 Unnamed: 12  \\\n",
       "0     健保（当月）     健保（翌月）     介護（当月）      介護（翌月）      厚年（当月）      厚年（翌月）   \n",
       "1        NaN      12610        NaN           0         NaN       23790   \n",
       "2        NaN      10670        NaN           0         NaN       20130   \n",
       "3        NaN      22795        NaN           0         NaN       43005   \n",
       "4        NaN      58685        NaN       10285         NaN       59475   \n",
       "\n",
       "  Unnamed: 13 Unnamed: 14  Unnamed: 15 Unnamed: 16 Unnamed: 17 Unnamed: 18  \\\n",
       "0  子育て拠出金（当月）  子育て拠出金（翌月）          NaN        厚年標報        翌月は？        月変は？   \n",
       "1         NaN         936          NaN         NaN         NaN         NaN   \n",
       "2         NaN         792          NaN         NaN         NaN         NaN   \n",
       "3         NaN        1692          NaN       45590           0       86010   \n",
       "4         NaN        2340          NaN      117370       20570      118950   \n",
       "\n",
       "  Unnamed: 19  \n",
       "0          備考  \n",
       "1         NaN  \n",
       "2         NaN  \n",
       "3        3384  \n",
       "4        4680  "
      ]
     },
     "execution_count": 4,
     "metadata": {},
     "output_type": "execute_result"
    }
   ],
   "source": [
    "path3 = \"/Users/formaideveloper/LLM_excel/application_v5/data/納品物作成1-1/★【給与】支給控除一覧_社保手修正一覧.xlsx\"\n",
    "df3 = pd.read_excel(path3,\n",
    "        sheet_name=0)\n",
    "df3.head()"
   ]
  },
  {
   "cell_type": "code",
   "execution_count": 77,
   "metadata": {},
   "outputs": [
    {
     "name": "stdout",
     "output_type": "stream",
     "text": [
      "202408給与計算結果一覧_カーディナルヘルス株式会社様            会社\n",
      "Unnamed: 1                              支給日\n",
      "Unnamed: 2                             社員番号\n",
      "Unnamed: 3                         氏名\\n（英語）\n",
      "Unnamed: 4                               氏名\n",
      "                                    ...    \n",
      "Unnamed: 130                         欠勤控除時間\n",
      "Unnamed: 131                     遅刻早退欠勤控除時間\n",
      "Unnamed: 132                       当月所定労働時間\n",
      "Unnamed: 133                          給与　備考\n",
      "Unnamed: 134                            NaN\n",
      "Name: 2, Length: 135, dtype: object\n"
     ]
    }
   ],
   "source": [
    "possible_header_row = df3[df3.apply(lambda row: row.astype(str).str.contains('社員番号', na=False).any() | row.astype(str).str.contains('スタッフコード', na=False).any(), axis=1)].iloc[0].squeeze()\n",
    "print(possible_header_row)"
   ]
  },
  {
   "cell_type": "code",
   "execution_count": 78,
   "metadata": {},
   "outputs": [
    {
     "name": "stdout",
     "output_type": "stream",
     "text": [
      "202408給与計算結果一覧_カーディナルヘルス株式会社様            会社\n",
      "Unnamed: 1                              支給日\n",
      "Unnamed: 2                             社員番号\n",
      "Unnamed: 3                         氏名\\n（英語）\n",
      "Unnamed: 4                               氏名\n",
      "                                    ...    \n",
      "Unnamed: 130                         欠勤控除時間\n",
      "Unnamed: 131                     遅刻早退欠勤控除時間\n",
      "Unnamed: 132                       当月所定労働時間\n",
      "Unnamed: 133                          給与　備考\n",
      "Unnamed: 134                            NaN\n",
      "Name: 2, Length: 135, dtype: object\n"
     ]
    }
   ],
   "source": [
    "target_row = df3.iloc[2]\n",
    "print(target_row)"
   ]
  },
  {
   "cell_type": "code",
   "execution_count": 79,
   "metadata": {},
   "outputs": [
    {
     "name": "stdout",
     "output_type": "stream",
     "text": [
      "True\n"
     ]
    }
   ],
   "source": [
    "print(target_row.equals(possible_header_row))"
   ]
  },
  {
   "cell_type": "code",
   "execution_count": 5,
   "metadata": {},
   "outputs": [],
   "source": [
    "def get_header_index(excel_file_path, sheet_name):\n",
    "    df = pd.read_excel(excel_file_path, sheet_name=sheet_name)\n",
    "    possible_header_row = df[df.apply(lambda row: row.astype(str).str.contains('社員番号', na=False).any() | row.astype(str).str.contains('スタッフコード', na=False).any(), axis=1)].iloc[0].squeeze()\n",
    "    for index, row in df.iterrows():\n",
    "        if row.equals(possible_header_row):\n",
    "            return index + 1\n",
    "    return 0"
   ]
  },
  {
   "cell_type": "code",
   "execution_count": 99,
   "metadata": {},
   "outputs": [
    {
     "name": "stdout",
     "output_type": "stream",
     "text": [
      "1\n"
     ]
    }
   ],
   "source": [
    "print(get_header_index(path3, 0))"
   ]
  },
  {
   "cell_type": "code",
   "execution_count": 13,
   "metadata": {},
   "outputs": [],
   "source": [
    "def load_single_sheet(excel_file_path, sheet_name):\n",
    "    possible_header_row = get_header_index(excel_file_path, sheet_name=sheet_name)\n",
    "    df = pd.read_excel(excel_file_path, sheet_name=sheet_name, header=possible_header_row)\n",
    "    df = df.loc[:, ~(df.columns.str.contains('Unnamed:') | df.columns.str.contains(\"NaN\"))]\n",
    "    datetime_columns = df.select_dtypes(include=['datetime64[ns]']).columns\n",
    "    df[datetime_columns] = df[datetime_columns].astype('string')    \n",
    "    return df\n",
    "    "
   ]
  },
  {
   "cell_type": "code",
   "execution_count": 14,
   "metadata": {},
   "outputs": [
    {
     "name": "stdout",
     "output_type": "stream",
     "text": [
      "          退職日      社員番号  氏名 雇用形態        生年月日               支給月締め日      年齢  \\\n",
      "0  2023-08-31  489281.0 NaN  NaN  1958-08-02  2023-08-31 00:00:00  65才0ヶ月   \n",
      "1  2023-08-31  489315.0 NaN  NaN  1958-08-25  2023-08-31 00:00:00  65才0ヶ月   \n",
      "2  2023-09-30  865002.0 NaN  NaN  1988-01-30  2023-09-30 00:00:00  35才8ヶ月   \n",
      "3  2023-09-30  489370.0 NaN  NaN  1959-09-25  2023-09-30 00:00:00  64才0ヶ月   \n",
      "4  2023-09-30  862664.0 NaN  NaN  1984-09-13  2023-09-30 00:00:00  39才0ヶ月   \n",
      "\n",
      "   健保（当月）   健保（翌月）  介護（当月）   介護（翌月）  厚年（当月）   厚年（翌月）  子育て拠出金（当月）  子育て拠出金（翌月）  \\\n",
      "0     NaN  12610.0     NaN      0.0     NaN  23790.0         NaN       936.0   \n",
      "1     NaN  10670.0     NaN      0.0     NaN  20130.0         NaN       792.0   \n",
      "2     NaN  22795.0     NaN      0.0     NaN  43005.0         NaN      1692.0   \n",
      "3     NaN  58685.0     NaN  10285.0     NaN  59475.0         NaN      2340.0   \n",
      "4     NaN  25705.0     NaN      0.0     NaN  48495.0         NaN      1908.0   \n",
      "\n",
      "       厚年標報   翌月は？    月変は？    備考  \n",
      "0       NaN    NaN     NaN   NaN  \n",
      "1       NaN    NaN     NaN   NaN  \n",
      "2   45590.0      0   86010  3384  \n",
      "3  117370.0  20570  118950  4680  \n",
      "4   51410.0      0   96990  3816  \n"
     ]
    }
   ],
   "source": [
    "new_df3 = load_single_sheet(path3, 0)\n",
    "# new_path = \"/Users/formaideveloper/LLM_excel/application_v4_test/data/納品物作成1-1/★【給与】支給控除一覧_社保手修正一覧.csv\"\n",
    "# new_df3.to_csv(new_path, index=False)\n",
    "print(new_df3.head())"
   ]
  },
  {
   "cell_type": "code",
   "execution_count": 15,
   "metadata": {},
   "outputs": [
    {
     "name": "stdout",
     "output_type": "stream",
     "text": [
      "<class 'pandas.core.frame.DataFrame'>\n",
      "RangeIndex: 39 entries, 0 to 38\n",
      "Data columns (total 19 columns):\n",
      " #   Column      Non-Null Count  Dtype  \n",
      "---  ------      --------------  -----  \n",
      " 0   退職日         32 non-null     string \n",
      " 1   社員番号        31 non-null     float64\n",
      " 2   氏名          0 non-null      float64\n",
      " 3   雇用形態        16 non-null     object \n",
      " 4   生年月日        31 non-null     string \n",
      " 5   支給月締め日      31 non-null     object \n",
      " 6   年齢          32 non-null     object \n",
      " 7   健保（当月）      3 non-null      float64\n",
      " 8   健保（翌月）      31 non-null     float64\n",
      " 9   介護（当月）      3 non-null      float64\n",
      " 10  介護（翌月）      31 non-null     float64\n",
      " 11  厚年（当月）      3 non-null      float64\n",
      " 12  厚年（翌月）      31 non-null     float64\n",
      " 13  子育て拠出金（当月）  10 non-null     float64\n",
      " 14  子育て拠出金（翌月）  38 non-null     float64\n",
      " 15  厚年標報        25 non-null     float64\n",
      " 16  翌月は？        24 non-null     object \n",
      " 17  月変は？        12 non-null     object \n",
      " 18  備考          7 non-null      object \n",
      "dtypes: float64(11), object(6), string(2)\n",
      "memory usage: 5.9+ KB\n",
      "None\n"
     ]
    }
   ],
   "source": [
    "print(new_df3.info())"
   ]
  },
  {
   "cell_type": "code",
   "execution_count": null,
   "metadata": {},
   "outputs": [],
   "source": []
  }
 ],
 "metadata": {
  "kernelspec": {
   "display_name": "LLM_env",
   "language": "python",
   "name": "python3"
  },
  "language_info": {
   "codemirror_mode": {
    "name": "ipython",
    "version": 3
   },
   "file_extension": ".py",
   "mimetype": "text/x-python",
   "name": "python",
   "nbconvert_exporter": "python",
   "pygments_lexer": "ipython3",
   "version": "3.10.14"
  }
 },
 "nbformat": 4,
 "nbformat_minor": 2
}
