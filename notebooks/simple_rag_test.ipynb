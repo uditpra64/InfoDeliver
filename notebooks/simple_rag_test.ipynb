{
 "cells": [
  {
   "cell_type": "code",
   "execution_count": 1,
   "metadata": {},
   "outputs": [],
   "source": [
    "import os\n",
    "\n",
    "os.environ['OPENAI_API_KEY'] = \"sk-pzmVDXe1-rxgtV34fEob57Owp9b7Z7_k-jYKmFaguDT3BlbkFJXR835WsPGSV7P_sjJXS2QGOJBIxgW5wSzwqExklvAA\""
   ]
  },
  {
   "cell_type": "code",
   "execution_count": 2,
   "metadata": {},
   "outputs": [],
   "source": [
    "from langchain import hub\n",
    "from langchain.text_splitter import RecursiveCharacterTextSplitter\n",
    "from langchain_community.document_loaders import TextLoader\n",
    "from langchain_community.vectorstores import Chroma\n",
    "from langchain_core.output_parsers import StrOutputParser\n",
    "from langchain_core.runnables import RunnablePassthrough\n",
    "from langchain_openai import ChatOpenAI, OpenAIEmbeddings\n",
    "from typing import List\n"
   ]
  },
  {
   "cell_type": "code",
   "execution_count": 9,
   "metadata": {},
   "outputs": [],
   "source": [
    "def get_all_file_paths(folder) -> List[str]:\n",
    "    file_paths = []\n",
    "    for root, _, files in os.walk(folder):\n",
    "        for file in files:\n",
    "            suffix = os.path.splitext(file)[1]\n",
    "            if suffix != \".md\":\n",
    "                continue\n",
    "            if \"説明用\" in file or \"sample\" in file:\n",
    "                continue\n",
    "            file_paths.append(os.path.join(root, file))\n",
    "    return file_paths"
   ]
  },
  {
   "cell_type": "code",
   "execution_count": 15,
   "metadata": {},
   "outputs": [],
   "source": [
    "def create_retriever_for_multiple_files(folder_path):\n",
    "    file_paths = get_all_file_paths(folder_path)\n",
    "    # print(len(file_paths))\n",
    "    if len(file_paths) == 0:\n",
    "        raise ValueError(f\"フォルダ『{folder_path}」の下にルールが見つからないです\")\n",
    "    splits = []\n",
    "    for file_path in file_paths:\n",
    "        loader = TextLoader(file_path, encoding=\"utf-8-sig\")\n",
    "        docs = loader.load()\n",
    "        text_splitter = RecursiveCharacterTextSplitter(chunk_size=1000, chunk_overlap=200)\n",
    "        \n",
    "        splits.extend(text_splitter.split_documents(docs))\n",
    "    vectorstore = Chroma.from_documents(documents=splits, \n",
    "                                        embedding=OpenAIEmbeddings(api_key=os.getenv(\"OPENAI_API_KEY\")))\n",
    "    retriever = vectorstore.as_retriever(k=4)\n",
    "    return retriever\n",
    "\n",
    "def format_docs(docs):\n",
    "    return \"\\n\\n\".join(doc.page_content for doc in docs)"
   ]
  },
  {
   "cell_type": "code",
   "execution_count": null,
   "metadata": {},
   "outputs": [],
   "source": []
  },
  {
   "cell_type": "code",
   "execution_count": 16,
   "metadata": {},
   "outputs": [
    {
     "name": "stderr",
     "output_type": "stream",
     "text": [
      "/Users/formaideveloper/miniconda3/envs/LLM_env/lib/python3.10/site-packages/langsmith/client.py:351: LangSmithMissingAPIKeyWarning: API key must be provided when using hosted LangSmith API\n",
      "  warnings.warn(\n"
     ]
    }
   ],
   "source": [
    "question = \"納品物作成1を紹介してください\"\n",
    "llm = ChatOpenAI(model=\"gpt-4o\", api_key= os.getenv(\"OPENAI_API_KEY\"))\n",
    "folder_path = \"/Users/formaideveloper/LLM_excel/application_v4_test/rule\"\n",
    "retriever = create_retriever_for_multiple_files(folder_path)\n",
    "# Prompt\n",
    "prompt = hub.pull(\"rlm/rag-prompt\")\n",
    "rag_chain = (\n",
    "    {\"context\": retriever | format_docs, \"question\": RunnablePassthrough()}\n",
    "    | prompt\n",
    "    | llm\n",
    "    | StrOutputParser()\n",
    ")"
   ]
  },
  {
   "cell_type": "code",
   "execution_count": 17,
   "metadata": {},
   "outputs": [
    {
     "name": "stdout",
     "output_type": "stream",
     "text": [
      "納品物作成2-2は、`shikyuukoujo_csv`の中で特定の`スタッフコード`に一致する行を対象に、データを処理して出力します。`shikyuukoujo_csv`の列を`sikyuukoujo_design_csv`の見出しに一致させ、振込先情報を`staff_kyuuyo_csv`を基に設定します。最終的に、組み替えたデータをデータフレームとして出力します。\n"
     ]
    }
   ],
   "source": [
    "question_2 = \"納品物作成2-2詳細に紹介してください\"\n",
    "ans = rag_chain.invoke(question_2)\n",
    "print(ans)"
   ]
  },
  {
   "cell_type": "code",
   "execution_count": 18,
   "metadata": {},
   "outputs": [
    {
     "name": "stdout",
     "output_type": "stream",
     "text": [
      "タスクは1つだけで、「納品物作成1-2」という名前のタスクがあります。\n"
     ]
    }
   ],
   "source": [
    "question_3 = \"全体はいくつのタスクがありますか,それぞれ教えて\"\n",
    "ans = rag_chain.invoke(question_3)\n",
    "print(ans)"
   ]
  },
  {
   "cell_type": "code",
   "execution_count": 33,
   "metadata": {},
   "outputs": [
    {
     "name": "stderr",
     "output_type": "stream",
     "text": [
      "/Users/formaideveloper/miniconda3/envs/LLM_env/lib/python3.10/site-packages/langsmith/client.py:351: LangSmithMissingAPIKeyWarning: API key must be provided when using hosted LangSmith API\n",
      "  warnings.warn(\n"
     ]
    },
    {
     "name": "stdout",
     "output_type": "stream",
     "text": [
      "input_variables=['context', 'question'] input_types={} partial_variables={} metadata={'lc_hub_owner': 'rlm', 'lc_hub_repo': 'rag-prompt', 'lc_hub_commit_hash': '50442af133e61576e74536c6556cefe1fac147cad032f4377b60c436e6cdcb6e'} messages=[HumanMessagePromptTemplate(prompt=PromptTemplate(input_variables=['context', 'question'], input_types={}, partial_variables={}, template=\"You are an assistant for question-answering tasks. Use the following pieces of retrieved context to answer the question. If you don't know the answer, just say that you don't know. Use three sentences maximum and keep the answer concise.\\nQuestion: {question} \\nContext: {context} \\nAnswer:\"), additional_kwargs={})]\n"
     ]
    }
   ],
   "source": [
    "prompt = hub.pull(\"rlm/rag-prompt\")\n",
    "print(prompt)"
   ]
  },
  {
   "cell_type": "code",
   "execution_count": null,
   "metadata": {},
   "outputs": [],
   "source": []
  }
 ],
 "metadata": {
  "kernelspec": {
   "display_name": "LLM_env",
   "language": "python",
   "name": "python3"
  },
  "language_info": {
   "codemirror_mode": {
    "name": "ipython",
    "version": 3
   },
   "file_extension": ".py",
   "mimetype": "text/x-python",
   "name": "python",
   "nbconvert_exporter": "python",
   "pygments_lexer": "ipython3",
   "version": "3.10.14"
  }
 },
 "nbformat": 4,
 "nbformat_minor": 2
}
