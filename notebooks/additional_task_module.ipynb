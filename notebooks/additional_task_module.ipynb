{
 "cells": [
  {
   "cell_type": "code",
   "execution_count": 2,
   "metadata": {},
   "outputs": [],
   "source": [
    "import pandas as pd\n",
    "from io import StringIO\n",
    "from typing import Annotated\n",
    "from typing_extensions import TypedDict\n",
    "from langchain_core.prompts import ChatPromptTemplate\n",
    "from langchain_core.messages import ToolMessage, AIMessage, SystemMessage, HumanMessage\n",
    "from langgraph.graph import StateGraph, START, END, PauseNode, ProcessingNode\n",
    "from langgraph.graph.message import add_messages\n",
    "from pandas.core.frame import DataFrame\n",
    "from pandas.core.series import Series\n",
    "import json\n",
    "# os.environ[\"OPENAI_API_KEY\"] = getpass.getpass('Password: ')\n",
    "api_key = \"sk-pzmVDXe1-rxgtV34fEob57Owp9b7Z7_k-jYKmFaguDT3BlbkFJXR835WsPGSV7P_sjJXS2QGOJBIxgW5wSzwqExklvAA\"\n",
    "\n",
    "from langchain_openai import ChatOpenAI\n",
    "\n",
    "llm = ChatOpenAI(model=\"gpt-4o-mini\", api_key=api_key)"
   ]
  },
  {
   "cell_type": "code",
   "execution_count": null,
   "metadata": {},
   "outputs": [],
   "source": [
    "class State(TypedDict):\n",
    "    messages: list\n",
    "    expected_info: dict\n",
    "\n",
    "class Queryer:\n",
    "    def __init__(self, llm, task_prompt: str):\n",
    "        self.llm = llm\n",
    "        self.task_prompt = task_prompt\n",
    "\n",
    "    def __call__(self, state: State):\n",
    "        lack_info_template = \"\"\"'{key_name}' is not given\"\"\"\n",
    "        lack_keys = []\n",
    "        for k, v in state[\"expected_info\"].items():\n",
    "            if v is None:\n",
    "                lack_keys.append(k)\n",
    "        lack_info = \"\\n\".join(lack_info_template.format(key_name=key_name) \n",
    "                              for key_name in lack_keys)\n",
    "        system = \"\\n Currently absent information are:\" + lack_info\n",
    "        prompt = ChatPromptTemplate.from_messages([(\"system\", system), (\"human\", \"{question}\")])\n",
    "        state[\"messages\"].append((prompt | self.llm).invoke(self.task_prompt))\n",
    "        return state\n",
    "    \n",
    "class Parser:\n",
    "    def __init__(self, llm):\n",
    "        self.llm = llm\n",
    "\n",
    "    def __call__(self, state: State):\n",
    "        message = state[\"messages\"][-1] if len(state.get(\"messages\", [])) > 0 else \"\"\n",
    "        system = f\"\"\"You are a content parser. Your task is to extract values for specific keys from the provided content.\n",
    "Return the result in this exact format:\n",
    "key1,value1|key2,value2|...\n",
    "\n",
    "Note: 1.Include only keys with found values in the response.\n",
    "2. Do not add any extra information or explanations to the response.\n",
    "3. Only one best value for each unique key.\n",
    "        \"\"\"\n",
    "        key_string = \",\".join(k for k in state[\"expected_info\"].keys())\n",
    "        system += \"\\nRequired keys are: \\n\" + key_string\n",
    "        prompt = ChatPromptTemplate.from_messages([(\"system\", system), (\"human\", \"{question}\")])\n",
    "        response = (prompt | self.llm).invoke(message.content)\n",
    "        key_value_pairs = response.content.split('|')\n",
    "        # TODO: modify the values for these keys and log the change into a message\n",
    "        # we would like to print those changes in the screen when encountering it into iteration of the stream\n",
    "        return state\n",
    "    \n",
    "#TODO: add pause node to wait for user input"
   ]
  }
 ],
 "metadata": {
  "kernelspec": {
   "display_name": "LLM_env",
   "language": "python",
   "name": "python3"
  },
  "language_info": {
   "codemirror_mode": {
    "name": "ipython",
    "version": 3
   },
   "file_extension": ".py",
   "mimetype": "text/x-python",
   "name": "python",
   "nbconvert_exporter": "python",
   "pygments_lexer": "ipython3",
   "version": "3.10.14"
  }
 },
 "nbformat": 4,
 "nbformat_minor": 2
}
