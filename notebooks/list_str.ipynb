{
 "cells": [
  {
   "cell_type": "code",
   "execution_count": 2,
   "metadata": {},
   "outputs": [],
   "source": [
    "import pandas as pd"
   ]
  },
  {
   "cell_type": "code",
   "execution_count": 2,
   "metadata": {},
   "outputs": [],
   "source": [
    "df = pd.read_csv(\"/Users/formaideveloper/LLM_excel/notebooks/YYYYMM勤怠取込データ_YYYYMMDD_gpt_4.csv\")"
   ]
  },
  {
   "cell_type": "code",
   "execution_count": 3,
   "metadata": {},
   "outputs": [
    {
     "data": {
      "text/html": [
       "<div>\n",
       "<style scoped>\n",
       "    .dataframe tbody tr th:only-of-type {\n",
       "        vertical-align: middle;\n",
       "    }\n",
       "\n",
       "    .dataframe tbody tr th {\n",
       "        vertical-align: top;\n",
       "    }\n",
       "\n",
       "    .dataframe thead th {\n",
       "        text-align: right;\n",
       "    }\n",
       "</style>\n",
       "<table border=\"1\" class=\"dataframe\">\n",
       "  <thead>\n",
       "    <tr style=\"text-align: right;\">\n",
       "      <th></th>\n",
       "      <th>スタッフコード</th>\n",
       "      <th>姓</th>\n",
       "      <th>名</th>\n",
       "      <th>支給日</th>\n",
       "      <th>給与規定グループ名</th>\n",
       "      <th>社員番号</th>\n",
       "      <th>出勤日数_x</th>\n",
       "      <th>出勤時間</th>\n",
       "      <th>所定内残業手当_x</th>\n",
       "      <th>普通残業手当_x</th>\n",
       "      <th>...</th>\n",
       "      <th>当月所定勤務時間</th>\n",
       "      <th>出勤日数_y</th>\n",
       "      <th>所定内残業手当_y</th>\n",
       "      <th>普通残業手当_y</th>\n",
       "      <th>深夜残業手当_y</th>\n",
       "      <th>法定外休日残業手当_y</th>\n",
       "      <th>法定休日残業手当_y</th>\n",
       "      <th>60時間超過手当_y</th>\n",
       "      <th>代休控除_y</th>\n",
       "      <th>遅刻早退控除_y</th>\n",
       "    </tr>\n",
       "  </thead>\n",
       "  <tbody>\n",
       "    <tr>\n",
       "      <th>0</th>\n",
       "      <td>483187</td>\n",
       "      <td>NaN</td>\n",
       "      <td>NaN</td>\n",
       "      <td>2024-04</td>\n",
       "      <td>一般_袋井_時間外あり</td>\n",
       "      <td>NaN</td>\n",
       "      <td>NaN</td>\n",
       "      <td>NaN</td>\n",
       "      <td>NaN</td>\n",
       "      <td>NaN</td>\n",
       "      <td>...</td>\n",
       "      <td>NaN</td>\n",
       "      <td>NaN</td>\n",
       "      <td>NaN</td>\n",
       "      <td>NaN</td>\n",
       "      <td>NaN</td>\n",
       "      <td>NaN</td>\n",
       "      <td>NaN</td>\n",
       "      <td>NaN</td>\n",
       "      <td>NaN</td>\n",
       "      <td>NaN</td>\n",
       "    </tr>\n",
       "    <tr>\n",
       "      <th>1</th>\n",
       "      <td>489280</td>\n",
       "      <td>NaN</td>\n",
       "      <td>NaN</td>\n",
       "      <td>2024-04</td>\n",
       "      <td>時給_袋井</td>\n",
       "      <td>NaN</td>\n",
       "      <td>NaN</td>\n",
       "      <td>NaN</td>\n",
       "      <td>NaN</td>\n",
       "      <td>NaN</td>\n",
       "      <td>...</td>\n",
       "      <td>NaN</td>\n",
       "      <td>NaN</td>\n",
       "      <td>NaN</td>\n",
       "      <td>NaN</td>\n",
       "      <td>NaN</td>\n",
       "      <td>NaN</td>\n",
       "      <td>NaN</td>\n",
       "      <td>NaN</td>\n",
       "      <td>NaN</td>\n",
       "      <td>NaN</td>\n",
       "    </tr>\n",
       "    <tr>\n",
       "      <th>2</th>\n",
       "      <td>489285</td>\n",
       "      <td>NaN</td>\n",
       "      <td>NaN</td>\n",
       "      <td>2024-04</td>\n",
       "      <td>時給_袋井</td>\n",
       "      <td>NaN</td>\n",
       "      <td>NaN</td>\n",
       "      <td>NaN</td>\n",
       "      <td>NaN</td>\n",
       "      <td>NaN</td>\n",
       "      <td>...</td>\n",
       "      <td>NaN</td>\n",
       "      <td>NaN</td>\n",
       "      <td>NaN</td>\n",
       "      <td>NaN</td>\n",
       "      <td>NaN</td>\n",
       "      <td>NaN</td>\n",
       "      <td>NaN</td>\n",
       "      <td>NaN</td>\n",
       "      <td>NaN</td>\n",
       "      <td>NaN</td>\n",
       "    </tr>\n",
       "    <tr>\n",
       "      <th>3</th>\n",
       "      <td>489296</td>\n",
       "      <td>NaN</td>\n",
       "      <td>NaN</td>\n",
       "      <td>2024-04</td>\n",
       "      <td>時給_袋井</td>\n",
       "      <td>NaN</td>\n",
       "      <td>NaN</td>\n",
       "      <td>NaN</td>\n",
       "      <td>NaN</td>\n",
       "      <td>NaN</td>\n",
       "      <td>...</td>\n",
       "      <td>NaN</td>\n",
       "      <td>NaN</td>\n",
       "      <td>NaN</td>\n",
       "      <td>NaN</td>\n",
       "      <td>NaN</td>\n",
       "      <td>NaN</td>\n",
       "      <td>NaN</td>\n",
       "      <td>NaN</td>\n",
       "      <td>NaN</td>\n",
       "      <td>NaN</td>\n",
       "    </tr>\n",
       "    <tr>\n",
       "      <th>4</th>\n",
       "      <td>489299</td>\n",
       "      <td>NaN</td>\n",
       "      <td>NaN</td>\n",
       "      <td>2024-04</td>\n",
       "      <td>時給_袋井</td>\n",
       "      <td>NaN</td>\n",
       "      <td>NaN</td>\n",
       "      <td>NaN</td>\n",
       "      <td>NaN</td>\n",
       "      <td>NaN</td>\n",
       "      <td>...</td>\n",
       "      <td>NaN</td>\n",
       "      <td>NaN</td>\n",
       "      <td>NaN</td>\n",
       "      <td>NaN</td>\n",
       "      <td>NaN</td>\n",
       "      <td>NaN</td>\n",
       "      <td>NaN</td>\n",
       "      <td>NaN</td>\n",
       "      <td>NaN</td>\n",
       "      <td>NaN</td>\n",
       "    </tr>\n",
       "  </tbody>\n",
       "</table>\n",
       "<p>5 rows × 26 columns</p>\n",
       "</div>"
      ],
      "text/plain": [
       "   スタッフコード   姓   名      支給日    給与規定グループ名  社員番号  出勤日数_x  出勤時間  所定内残業手当_x  \\\n",
       "0   483187 NaN NaN  2024-04  一般_袋井_時間外あり   NaN     NaN   NaN        NaN   \n",
       "1   489280 NaN NaN  2024-04        時給_袋井   NaN     NaN   NaN        NaN   \n",
       "2   489285 NaN NaN  2024-04        時給_袋井   NaN     NaN   NaN        NaN   \n",
       "3   489296 NaN NaN  2024-04        時給_袋井   NaN     NaN   NaN        NaN   \n",
       "4   489299 NaN NaN  2024-04        時給_袋井   NaN     NaN   NaN        NaN   \n",
       "\n",
       "   普通残業手当_x  ...  当月所定勤務時間  出勤日数_y  所定内残業手当_y  普通残業手当_y  深夜残業手当_y  \\\n",
       "0       NaN  ...       NaN     NaN        NaN       NaN       NaN   \n",
       "1       NaN  ...       NaN     NaN        NaN       NaN       NaN   \n",
       "2       NaN  ...       NaN     NaN        NaN       NaN       NaN   \n",
       "3       NaN  ...       NaN     NaN        NaN       NaN       NaN   \n",
       "4       NaN  ...       NaN     NaN        NaN       NaN       NaN   \n",
       "\n",
       "   法定外休日残業手当_y  法定休日残業手当_y  60時間超過手当_y  代休控除_y  遅刻早退控除_y  \n",
       "0          NaN         NaN         NaN     NaN       NaN  \n",
       "1          NaN         NaN         NaN     NaN       NaN  \n",
       "2          NaN         NaN         NaN     NaN       NaN  \n",
       "3          NaN         NaN         NaN     NaN       NaN  \n",
       "4          NaN         NaN         NaN     NaN       NaN  \n",
       "\n",
       "[5 rows x 26 columns]"
      ]
     },
     "execution_count": 3,
     "metadata": {},
     "output_type": "execute_result"
    }
   ],
   "source": [
    "df.head()"
   ]
  },
  {
   "cell_type": "code",
   "execution_count": 4,
   "metadata": {},
   "outputs": [],
   "source": [
    "sliced_df = df.iloc[:2, :2]"
   ]
  },
  {
   "cell_type": "code",
   "execution_count": 5,
   "metadata": {},
   "outputs": [
    {
     "name": "stdout",
     "output_type": "stream",
     "text": [
      "   スタッフコード   姓\n",
      "0   483187 NaN\n",
      "1   489280 NaN\n"
     ]
    }
   ],
   "source": [
    "print(sliced_df)"
   ]
  },
  {
   "cell_type": "code",
   "execution_count": 6,
   "metadata": {},
   "outputs": [
    {
     "name": "stdout",
     "output_type": "stream",
     "text": [
      "{'スタッフコード': {0: 483187, 1: 489280}, '姓': {0: nan, 1: nan}}\n"
     ]
    }
   ],
   "source": [
    "print(sliced_df.to_dict())"
   ]
  },
  {
   "cell_type": "code",
   "execution_count": 13,
   "metadata": {},
   "outputs": [],
   "source": [
    "df = pd.read_csv(\"/Users/formaideveloper/LLM_excel/テスト用データ/other_4/shikyuukoujo_sekkei.csv\", delimiter=',')"
   ]
  },
  {
   "cell_type": "code",
   "execution_count": 14,
   "metadata": {},
   "outputs": [
    {
     "name": "stdout",
     "output_type": "stream",
     "text": [
      "  新しいファイルの列番号 新しいファイルの列名 入力する値（必要な場合のみ） 参照する入力ファイル（必要な場合のみ）  \\\n",
      "0           A         会社            NaN                 NaN   \n",
      "1           B        支給日   payment_date                 NaN   \n",
      "2           C       社員番号            NaN        shikyuukoujo   \n",
      "3           D     氏名（英語）            NaN  sub_employee_labor   \n",
      "4           E         氏名            NaN  sub_employee_labor   \n",
      "\n",
      "  参照する入力ファイルの参照する列番号（必要な場合のみ）  \n",
      "0                         NaN  \n",
      "1                         NaN  \n",
      "2                           B  \n",
      "3                          KS  \n",
      "4                          KV  \n"
     ]
    }
   ],
   "source": [
    "print(df.head())"
   ]
  },
  {
   "cell_type": "code",
   "execution_count": 12,
   "metadata": {},
   "outputs": [
    {
     "data": {
      "text/plain": [
       "新しいファイルの列番号                      A\n",
       "新しいファイルの列名                      会社\n",
       "入力する値（必要な場合のみ）                 NaN\n",
       "参照する入力ファイル（必要な場合のみ）            NaN\n",
       "参照する入力ファイルの参照する列番号（必要な場合のみ）    NaN\n",
       "Name: 0, dtype: object"
      ]
     },
     "execution_count": 12,
     "metadata": {},
     "output_type": "execute_result"
    }
   ],
   "source": [
    "df.iloc[0]"
   ]
  },
  {
   "cell_type": "code",
   "execution_count": 8,
   "metadata": {},
   "outputs": [],
   "source": [
    "df.to_csv(\"/Users/formaideveloper/LLM_excel/テスト用データ/other_4/shikyuukoujo_sekkei.csv\", encoding='utf-16', index=False)"
   ]
  },
  {
   "cell_type": "code",
   "execution_count": 5,
   "metadata": {},
   "outputs": [
    {
     "name": "stdout",
     "output_type": "stream",
     "text": [
      "2024/11\n",
      "2024-11-12\n"
     ]
    }
   ],
   "source": [
    "from datetime import date\n",
    "print(date.today().strftime(\"%Y/%m\"))\n",
    "print(date.today())"
   ]
  },
  {
   "cell_type": "code",
   "execution_count": null,
   "metadata": {},
   "outputs": [],
   "source": []
  }
 ],
 "metadata": {
  "kernelspec": {
   "display_name": "LLM_env",
   "language": "python",
   "name": "python3"
  },
  "language_info": {
   "codemirror_mode": {
    "name": "ipython",
    "version": 3
   },
   "file_extension": ".py",
   "mimetype": "text/x-python",
   "name": "python",
   "nbconvert_exporter": "python",
   "pygments_lexer": "ipython3",
   "version": "3.10.14"
  }
 },
 "nbformat": 4,
 "nbformat_minor": 2
}
