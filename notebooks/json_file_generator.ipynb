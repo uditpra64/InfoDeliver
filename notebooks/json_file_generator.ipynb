{
 "cells": [
  {
   "cell_type": "code",
   "execution_count": 6,
   "metadata": {},
   "outputs": [],
   "source": [
    "import json\n",
    "from typing import List\n",
    "import os\n",
    "import re"
   ]
  },
  {
   "cell_type": "code",
   "execution_count": 18,
   "metadata": {},
   "outputs": [],
   "source": [
    "def generate_json(task_dir: str):\n",
    "    if not os.path.isdir(task_dir):\n",
    "        raise ValueError(f\"{task_dir} is not a valid directory path\")\n",
    "    json_dict = {}\n",
    "    task_name = (task_dir.split(\"/\"))[0]\n",
    "    json_dict[\"task\"] = task_name\n",
    "    files = []\n",
    "    pattern = re.compile(r'.*\\.csv$', re.IGNORECASE)  # Case insensitive match\n",
    "    # Iterate through the files in the given directory\n",
    "    for filename in os.listdir(task_dir):\n",
    "        # Check if the filename matches the regex pattern\n",
    "        if pattern.match(filename):\n",
    "            files.append(filename)\n",
    "    files = sorted(files, reverse=False)\n",
    "    json_dict[\"files\"] = files\n",
    "    with open(os.path.join(task_dir, \"prompt.txt\"), \"r\") as f:\n",
    "        prompt = f.read()\n",
    "    json_dict[\"prompt\"] = prompt\n",
    "    with open(os.path.join(task_dir, f\"setting.json\"), 'w') as f:\n",
    "        json.dump(json_dict, f, ensure_ascii=False, indent=4)"
   ]
  },
  {
   "cell_type": "code",
   "execution_count": 20,
   "metadata": {},
   "outputs": [],
   "source": [
    "generate_json(\"menu/task1\")\n",
    "generate_json(\"menu/task2\")\n",
    "generate_json(\"menu/task3\")"
   ]
  }
 ],
 "metadata": {
  "kernelspec": {
   "display_name": "LLM_env",
   "language": "python",
   "name": "python3"
  },
  "language_info": {
   "codemirror_mode": {
    "name": "ipython",
    "version": 3
   },
   "file_extension": ".py",
   "mimetype": "text/x-python",
   "name": "python",
   "nbconvert_exporter": "python",
   "pygments_lexer": "ipython3",
   "version": "3.10.14"
  }
 },
 "nbformat": 4,
 "nbformat_minor": 2
}
