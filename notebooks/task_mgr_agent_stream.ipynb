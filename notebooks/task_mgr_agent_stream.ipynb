{
 "cells": [
  {
   "cell_type": "code",
   "execution_count": 1,
   "metadata": {},
   "outputs": [],
   "source": [
    "import getpass\n",
    "import os\n",
    "from langchain_core.prompts import ChatPromptTemplate\n",
    "from langchain_experimental.tools import PythonAstREPLTool\n",
    "from langchain.output_parsers.openai_tools import JsonOutputKeyToolsParser\n",
    "import pandas as pd\n",
    "from io import StringIO\n",
    "from typing import Annotated\n",
    "from typing_extensions import TypedDict\n",
    "\n",
    "from langchain_core.messages import ToolMessage, AIMessage, SystemMessage, HumanMessage\n",
    "from langgraph.graph import StateGraph, START, END\n",
    "from langgraph.graph.message import add_messages\n",
    "from pandas.core.frame import DataFrame\n",
    "from pandas.core.series import Series\n",
    "import json\n",
    "# os.environ[\"OPENAI_API_KEY\"] = getpass.getpass('Password: ')\n",
    "api_key = \"sk-pzmVDXe1-rxgtV34fEob57Owp9b7Z7_k-jYKmFaguDT3BlbkFJXR835WsPGSV7P_sjJXS2QGOJBIxgW5wSzwqExklvAA\"\n",
    "\n",
    "from langchain_openai import ChatOpenAI\n",
    "\n",
    "llm_1 = ChatOpenAI(model=\"gpt-4o-mini\", api_key=api_key)\n",
    "llm_2 = ChatOpenAI(model=\"gpt-4o-mini\", api_key=api_key)"
   ]
  },
  {
   "cell_type": "code",
   "execution_count": 38,
   "metadata": {},
   "outputs": [],
   "source": [
    "class State(TypedDict):\n",
    "    messages: list\n",
    "    task_info_dict: dict # (df_name, df_info, file_name)\n",
    "    judge_string: str\n",
    "\n",
    "class MgrBot:\n",
    "    def __init__(self, llm):\n",
    "        self.llm = llm\n",
    "\n",
    "    def __call__(self, state: State):\n",
    "        message = state[\"messages\"][-1] if len(state.get(\"messages\", [])) > 0 else \"\"\n",
    "        system = f\"\"\"You are a manager of a application with many tasks. \n",
    "You are allowed to do one of those jobs based on user's query:\n",
    "1. introduce the overall general about tasks that this application can support.\n",
    "2. introduce the selected task by user in detail.\n",
    "3. give some advice to help user to choose one task based on his/her needs.\n",
    "4. if user makes a decision to select a task to work on, then based on contexts choose one supported task that is mostly close to the user's needs and only return the task name.\n",
    "All the responeses except the task name string must be in Japanese.\n",
    "        \"\"\"\n",
    "        judge_str = state[\"judge_string\"]\n",
    "        if judge_str in[\"general introduction\", \"advice\", \"select\"]:\n",
    "            task_template = \"\"\"'{task_name}': {task_explaination}\"\"\"\n",
    "            all_task_info = \"\\n\".join(task_template.format(\n",
    "                task_name=task[\"タスク名前\"], task_explaination=task[\"タスク説明\"]\n",
    "            ) for task in state[\"task_info_dict\"].values())\n",
    "            system += \"\\nAll the available tasks are as below\\n\"\n",
    "            system += all_task_info\n",
    "        elif judge_str == \"others\":\n",
    "            state[\"messages\"].append(AIMessage(\"申し訳ございません。業務に関する内容を聞いていただきます。\"))\n",
    "        else:\n",
    "            file_template = \"\"\"\n",
    "            'ファイル名前': {file_name}\n",
    "            'ファイル説明': {file_explanation}\n",
    "            '必要': {needed}\n",
    "            \"\"\"\n",
    "            task = state[\"task_info_dict\"].get(state[\"judge_str\"], None)\n",
    "            if task is None:\n",
    "                system = system\n",
    "            else:\n",
    "                system += f\"\\nFor the task {task['タスク名前']}: {task['タスク説明']}. All the required files are as below\\n\"\n",
    "                all_file_info = \"\\n\".join(file_template.format(\n",
    "                    file_name=file[\"ファイル名前\"], file_explanation=file[\"file_explanation\"],\n",
    "                    needed = file[\"必要\"]) for file in task[\"必要なファイル\"]\n",
    "                )\n",
    "                system += all_file_info\n",
    "        # TODO: check whether need to add the original code in the prompt\n",
    "        prompt = ChatPromptTemplate.from_messages([(\"system\", system), (\"human\", \"{question}\")])\n",
    "        state[\"messages\"].append((prompt | self.llm).invoke(message.content))\n",
    "        return state\n",
    "    \n",
    "class JudgeBot:\n",
    "    def __init__(self, llm):\n",
    "        self.llm = llm\n",
    "\n",
    "    def __call__(self, state: State):\n",
    "        message = state[\"messages\"][-1] if len(state.get(\"messages\", [])) > 0 else \"\"\n",
    "        system = f\"\"\"You are a content judger, and you are required to judge the type of a given content.\n",
    "1. If the content is about general introduction, return a string \"general introduction\"\n",
    "2. If the content is related to one specific task introduction, just return the task name\n",
    "3. If the content is about asking advice about how to select a task, return a string \"advice\"\n",
    "4. If the content is about making a decision to select a task to work on, return a string \"select\"\n",
    "5. If none of the above, return a string \"others\"\n",
    "        \"\"\"\n",
    "        task_template = \"\"\"'{task_name}': {task_explaination}\"\"\"\n",
    "        all_task_info = \"\\n\".join(task_template.format(\n",
    "            task_name=task[\"タスク名前\"], task_explaination=task[\"タスク説明\"]\n",
    "        ) for task in state[\"task_info_dict\"].values())\n",
    "        system += \"\\nAll the available tasks are as below\\n\"\n",
    "        system += all_task_info\n",
    "\n",
    "        prompt = ChatPromptTemplate.from_messages([(\"system\", system), (\"human\", \"{question}\")])\n",
    "        response = (prompt | self.llm).invoke(message.content)\n",
    "        state[\"judge_string\"] = response.content\n",
    "        return state"
   ]
  },
  {
   "cell_type": "code",
   "execution_count": 39,
   "metadata": {},
   "outputs": [],
   "source": [
    "graph_builder = StateGraph(State)\n",
    "mgrbot = MgrBot(llm=llm_1)\n",
    "judgebot = JudgeBot(llm=llm_2)\n",
    "graph_builder.add_node(\"mgr\", mgrbot)\n",
    "graph_builder.add_node(\"judge\", judgebot)\n",
    "graph_builder.add_edge(START, \"judge\")\n",
    "graph_builder.add_edge(\"judge\", \"mgr\")\n",
    "graph_builder.add_edge(\"mgr\", END)\n",
    "graph = graph_builder.compile()"
   ]
  },
  {
   "cell_type": "code",
   "execution_count": 19,
   "metadata": {},
   "outputs": [
    {
     "data": {
      "image/jpeg": "[encoded data removed]",
      "text/plain": [
       "<IPython.core.display.Image object>"
      ]
     },
     "metadata": {},
     "output_type": "display_data"
    }
   ],
   "source": [
    "from IPython.display import Image, display\n",
    "\n",
    "try:\n",
    "    display(Image(graph.get_graph().draw_mermaid_png()))\n",
    "except Exception:\n",
    "    # This requires some extra dependencies and is optional\n",
    "    pass\n"
   ]
  },
  {
   "cell_type": "code",
   "execution_count": 40,
   "metadata": {},
   "outputs": [],
   "source": [
    "def create_init_state(json_file_path, prompt):\n",
    "    task_dict = {}\n",
    "    with open(json_file_path, 'r') as f:\n",
    "        origin_dict = json.load(f)\n",
    "        for task in origin_dict[\"タスク\"]:\n",
    "            task_dict[task[\"タスク名前\"]] = task\n",
    "    message_list = [HumanMessage(prompt)]\n",
    "    state = State(messages=message_list, task_info_dict=task_dict, judge_string=None)\n",
    "    return state"
   ]
  },
  {
   "cell_type": "code",
   "execution_count": 41,
   "metadata": {},
   "outputs": [],
   "source": [
    "prompt = \"全体のタスクを紹介してください\"\n",
    "json_file_path = \"/Users/formaideveloper/LLM_excel/application_v3/json/config.json\"\n",
    "init_state = create_init_state(json_file_path, prompt)"
   ]
  },
  {
   "cell_type": "code",
   "execution_count": 42,
   "metadata": {},
   "outputs": [
    {
     "name": "stdout",
     "output_type": "stream",
     "text": [
      "全体のタスクを紹介してください\n",
      "------------------------------------------------------------\n",
      "このアプリケーションでは、以下のタスクをサポートしています：\n",
      "\n",
      "1. **納品物作成1-1**: 4項目の数値更新を行います。\n",
      "2. **納品物作成1-2**: 不要行の削除と漢字変換を行います。\n",
      "3. **納品物作成2-1-1**: Yonosukeデータ（年間累計課税支給額データ）の作成を行います。\n",
      "4. **納品物作成2-1-2**: Yonosukeの不要行の削除を行います。\n",
      "5. **納品物作成2-2-1**: 給与支給控除一覧データの雛形作成と振込先加工を行います。\n",
      "6. **納品物作成2-2-2**: 当月退職者のデータ更新を行います。\n",
      "\n",
      "これらのタスクは、さまざまな業務ニーズに対応しており、特定の要件に基づいて作業を行うことができます。どのタスクについて詳しく知りたいですか？\n",
      "------------------------------------------------------------\n",
      "general introduction\n"
     ]
    }
   ],
   "source": [
    "res = graph.stream(init_state)\n",
    "for event in res:\n",
    "    for v in event.values(): # Here is to handle the situation of multiple nodes at this stage\n",
    "        final_state = v\n",
    "for message in final_state['messages']:\n",
    "    print(message.content)\n",
    "    print(\"\".join(\"-\" for _ in range(60)))\n",
    "print(final_state[\"judge_string\"])"
   ]
  },
  {
   "cell_type": "code",
   "execution_count": 15,
   "metadata": {},
   "outputs": [
    {
     "name": "stdout",
     "output_type": "stream",
     "text": [
      "全体のタスクを紹介してください\n",
      "------------------------------------------------------------\n",
      "このアプリケーションは、以下のタスクをサポートしています。\n",
      "\n",
      "1. **納品物作成1-1**: 4項目の数値更新を行います。\n",
      "2. **納品物作成1-2**: 不要行の削除および漢字変換を行います。\n",
      "3. **納品物作成2-1-1**: Yonosukeデータ（年間累計課税支給額データ）を作成します。\n",
      "4. **納品物作成2-1-2**: Yonosukeの不要行を削除します。\n",
      "5. **納品物作成2-2-1**: 【給与】支給控除一覧データの雛形作成および振込先加工を行います。\n",
      "6. **納品物作成2-2-2**: 当月退職者のデータを更新します。\n",
      "\n",
      "これらのタスクは、主にデータの管理や更新、不要な情報の整理に役立ちます。どのタスクに興味がありますか？\n",
      "------------------------------------------------------------\n",
      "納品物作成1-1をもっと紹介してください。\n",
      "------------------------------------------------------------\n",
      "納品物作成1-1は、4項目の数値を更新するためのタスクです。このタスクは、特定のデータセットに対して数値を正確に更新することを目的としています。主に、報告書や資料の納品物を作成する際に必要なデータの修正や更新を行います。これにより、最新の情報に基づいた納品物を作成することができ、業務の効率化や正確性を向上させることができます。\n",
      "\n",
      "このタスクを利用することで、データの整合性を保ちつつ、迅速に納品物を準備することが可能です。特に数値データの管理や更新が必要な場合には非常に便利です。\n",
      "------------------------------------------------------------\n"
     ]
    }
   ],
   "source": [
    "init_state[\"messages\"].append(HumanMessage(\"納品物作成1-1をもっと紹介してください。\"))\n",
    "res = graph.stream(init_state)\n",
    "for event in res:\n",
    "    pass\n",
    "for message in init_state['messages']:\n",
    "    print(message.content)\n",
    "    print(\"\".join(\"-\" for _ in range(60)))"
   ]
  },
  {
   "cell_type": "code",
   "execution_count": 16,
   "metadata": {},
   "outputs": [
    {
     "name": "stdout",
     "output_type": "stream",
     "text": [
      "全体のタスクを紹介してください\n",
      "------------------------------------------------------------\n",
      "このアプリケーションは、以下のタスクをサポートしています。\n",
      "\n",
      "1. **納品物作成1-1**: 4項目の数値更新を行います。\n",
      "2. **納品物作成1-2**: 不要行の削除および漢字変換を行います。\n",
      "3. **納品物作成2-1-1**: Yonosukeデータ（年間累計課税支給額データ）を作成します。\n",
      "4. **納品物作成2-1-2**: Yonosukeの不要行を削除します。\n",
      "5. **納品物作成2-2-1**: 【給与】支給控除一覧データの雛形作成および振込先加工を行います。\n",
      "6. **納品物作成2-2-2**: 当月退職者のデータを更新します。\n",
      "\n",
      "これらのタスクは、主にデータの管理や更新、不要な情報の整理に役立ちます。どのタスクに興味がありますか？\n",
      "------------------------------------------------------------\n",
      "納品物作成1-1をもっと紹介してください。\n",
      "------------------------------------------------------------\n",
      "納品物作成1-1は、4項目の数値を更新するためのタスクです。このタスクは、特定のデータセットに対して数値を正確に更新することを目的としています。主に、報告書や資料の納品物を作成する際に必要なデータの修正や更新を行います。これにより、最新の情報に基づいた納品物を作成することができ、業務の効率化や正確性を向上させることができます。\n",
      "\n",
      "このタスクを利用することで、データの整合性を保ちつつ、迅速に納品物を準備することが可能です。特に数値データの管理や更新が必要な場合には非常に便利です。\n",
      "------------------------------------------------------------\n",
      "なんのファイル必要ですか？\n",
      "------------------------------------------------------------\n",
      "このアプリケーションは、さまざまなタスクをサポートしています。具体的には、納品物の作成やデータの更新、不要行の削除、漢字の変換など、複数の作業を行うことができます。具体的なタスクについて知りたい場合は、さらに詳しく教えていただければと思います。\n",
      "------------------------------------------------------------\n"
     ]
    }
   ],
   "source": [
    "init_state[\"messages\"].append(HumanMessage(\"なんのファイル必要ですか？\"))\n",
    "res = graph.stream(init_state)\n",
    "for event in res:\n",
    "    pass\n",
    "for message in init_state['messages']:\n",
    "    print(message.content)\n",
    "    print(\"\".join(\"-\" for _ in range(60)))"
   ]
  },
  {
   "cell_type": "code",
   "execution_count": 17,
   "metadata": {},
   "outputs": [
    {
     "name": "stdout",
     "output_type": "stream",
     "text": [
      "全体のタスクを紹介してください\n",
      "------------------------------------------------------------\n",
      "このアプリケーションは、以下のタスクをサポートしています。\n",
      "\n",
      "1. **納品物作成1-1**: 4項目の数値更新を行います。\n",
      "2. **納品物作成1-2**: 不要行の削除および漢字変換を行います。\n",
      "3. **納品物作成2-1-1**: Yonosukeデータ（年間累計課税支給額データ）を作成します。\n",
      "4. **納品物作成2-1-2**: Yonosukeの不要行を削除します。\n",
      "5. **納品物作成2-2-1**: 【給与】支給控除一覧データの雛形作成および振込先加工を行います。\n",
      "6. **納品物作成2-2-2**: 当月退職者のデータを更新します。\n",
      "\n",
      "これらのタスクは、主にデータの管理や更新、不要な情報の整理に役立ちます。どのタスクに興味がありますか？\n",
      "------------------------------------------------------------\n",
      "納品物作成1-1をもっと紹介してください。\n",
      "------------------------------------------------------------\n",
      "納品物作成1-1は、4項目の数値を更新するためのタスクです。このタスクは、特定のデータセットに対して数値を正確に更新することを目的としています。主に、報告書や資料の納品物を作成する際に必要なデータの修正や更新を行います。これにより、最新の情報に基づいた納品物を作成することができ、業務の効率化や正確性を向上させることができます。\n",
      "\n",
      "このタスクを利用することで、データの整合性を保ちつつ、迅速に納品物を準備することが可能です。特に数値データの管理や更新が必要な場合には非常に便利です。\n",
      "------------------------------------------------------------\n",
      "なんのファイル必要ですか？\n",
      "------------------------------------------------------------\n",
      "このアプリケーションは、さまざまなタスクをサポートしています。具体的には、納品物の作成やデータの更新、不要行の削除、漢字の変換など、複数の作業を行うことができます。具体的なタスクについて知りたい場合は、さらに詳しく教えていただければと思います。\n",
      "------------------------------------------------------------\n",
      "納品物作成1-1はなんのファイル必要ですか？\n",
      "------------------------------------------------------------\n",
      "「納品物作成1-1」は、4項目の数値更新を行うタスクです。このタスクを実行するには、更新が必要な数値やデータが含まれた元のファイルが必要です。具体的には、更新対象の項目が明確に記載されたスプレッドシートやデータファイルが望ましいです。もし他に具体的な質問があればお知らせください。\n",
      "------------------------------------------------------------\n"
     ]
    }
   ],
   "source": [
    "init_state[\"messages\"].append(HumanMessage(\"納品物作成1-1はなんのファイル必要ですか？\"))\n",
    "res = graph.stream(init_state)\n",
    "for event in res:\n",
    "    pass\n",
    "for message in init_state['messages']:\n",
    "    print(message.content)\n",
    "    print(\"\".join(\"-\" for _ in range(60)))"
   ]
  },
  {
   "cell_type": "code",
   "execution_count": 18,
   "metadata": {},
   "outputs": [
    {
     "name": "stdout",
     "output_type": "stream",
     "text": [
      "全体のタスクを紹介してください\n",
      "------------------------------------------------------------\n",
      "このアプリケーションは、以下のタスクをサポートしています。\n",
      "\n",
      "1. **納品物作成1-1**: 4項目の数値更新を行います。\n",
      "2. **納品物作成1-2**: 不要行の削除および漢字変換を行います。\n",
      "3. **納品物作成2-1-1**: Yonosukeデータ（年間累計課税支給額データ）を作成します。\n",
      "4. **納品物作成2-1-2**: Yonosukeの不要行を削除します。\n",
      "5. **納品物作成2-2-1**: 【給与】支給控除一覧データの雛形作成および振込先加工を行います。\n",
      "6. **納品物作成2-2-2**: 当月退職者のデータを更新します。\n",
      "\n",
      "これらのタスクは、主にデータの管理や更新、不要な情報の整理に役立ちます。どのタスクに興味がありますか？\n",
      "------------------------------------------------------------\n",
      "納品物作成1-1をもっと紹介してください。\n",
      "------------------------------------------------------------\n",
      "納品物作成1-1は、4項目の数値を更新するためのタスクです。このタスクは、特定のデータセットに対して数値を正確に更新することを目的としています。主に、報告書や資料の納品物を作成する際に必要なデータの修正や更新を行います。これにより、最新の情報に基づいた納品物を作成することができ、業務の効率化や正確性を向上させることができます。\n",
      "\n",
      "このタスクを利用することで、データの整合性を保ちつつ、迅速に納品物を準備することが可能です。特に数値データの管理や更新が必要な場合には非常に便利です。\n",
      "------------------------------------------------------------\n",
      "なんのファイル必要ですか？\n",
      "------------------------------------------------------------\n",
      "このアプリケーションは、さまざまなタスクをサポートしています。具体的には、納品物の作成やデータの更新、不要行の削除、漢字の変換など、複数の作業を行うことができます。具体的なタスクについて知りたい場合は、さらに詳しく教えていただければと思います。\n",
      "------------------------------------------------------------\n",
      "納品物作成1-1はなんのファイル必要ですか？\n",
      "------------------------------------------------------------\n",
      "「納品物作成1-1」は、4項目の数値更新を行うタスクです。このタスクを実行するには、更新が必要な数値やデータが含まれた元のファイルが必要です。具体的には、更新対象の項目が明確に記載されたスプレッドシートやデータファイルが望ましいです。もし他に具体的な質問があればお知らせください。\n",
      "------------------------------------------------------------\n",
      "現在流行っているゲームを紹介してください\n",
      "------------------------------------------------------------\n",
      "申し訳ありませんが、このアプリケーションではゲームに関する情報を提供することはできません。代わりに、タスクに関する情報を提供できますので、どのようなタスクについて知りたいか教えていただけますか？\n",
      "------------------------------------------------------------\n"
     ]
    }
   ],
   "source": [
    "init_state[\"messages\"].append(HumanMessage(\"現在流行っているゲームを紹介してください\"))\n",
    "res = graph.stream(init_state)\n",
    "for event in res:\n",
    "    pass\n",
    "for message in init_state['messages']:\n",
    "    print(message.content)\n",
    "    print(\"\".join(\"-\" for _ in range(60)))"
   ]
  },
  {
   "cell_type": "code",
   "execution_count": 19,
   "metadata": {},
   "outputs": [
    {
     "name": "stdout",
     "output_type": "stream",
     "text": [
      "全体のタスクを紹介してください\n",
      "------------------------------------------------------------\n",
      "このアプリケーションは、以下のタスクをサポートしています。\n",
      "\n",
      "1. **納品物作成1-1**: 4項目の数値更新を行います。\n",
      "2. **納品物作成1-2**: 不要行の削除および漢字変換を行います。\n",
      "3. **納品物作成2-1-1**: Yonosukeデータ（年間累計課税支給額データ）を作成します。\n",
      "4. **納品物作成2-1-2**: Yonosukeの不要行を削除します。\n",
      "5. **納品物作成2-2-1**: 【給与】支給控除一覧データの雛形作成および振込先加工を行います。\n",
      "6. **納品物作成2-2-2**: 当月退職者のデータを更新します。\n",
      "\n",
      "これらのタスクは、主にデータの管理や更新、不要な情報の整理に役立ちます。どのタスクに興味がありますか？\n",
      "------------------------------------------------------------\n",
      "納品物作成1-1をもっと紹介してください。\n",
      "------------------------------------------------------------\n",
      "納品物作成1-1は、4項目の数値を更新するためのタスクです。このタスクは、特定のデータセットに対して数値を正確に更新することを目的としています。主に、報告書や資料の納品物を作成する際に必要なデータの修正や更新を行います。これにより、最新の情報に基づいた納品物を作成することができ、業務の効率化や正確性を向上させることができます。\n",
      "\n",
      "このタスクを利用することで、データの整合性を保ちつつ、迅速に納品物を準備することが可能です。特に数値データの管理や更新が必要な場合には非常に便利です。\n",
      "------------------------------------------------------------\n",
      "なんのファイル必要ですか？\n",
      "------------------------------------------------------------\n",
      "このアプリケーションは、さまざまなタスクをサポートしています。具体的には、納品物の作成やデータの更新、不要行の削除、漢字の変換など、複数の作業を行うことができます。具体的なタスクについて知りたい場合は、さらに詳しく教えていただければと思います。\n",
      "------------------------------------------------------------\n",
      "納品物作成1-1はなんのファイル必要ですか？\n",
      "------------------------------------------------------------\n",
      "「納品物作成1-1」は、4項目の数値更新を行うタスクです。このタスクを実行するには、更新が必要な数値やデータが含まれた元のファイルが必要です。具体的には、更新対象の項目が明確に記載されたスプレッドシートやデータファイルが望ましいです。もし他に具体的な質問があればお知らせください。\n",
      "------------------------------------------------------------\n",
      "現在流行っているゲームを紹介してください\n",
      "------------------------------------------------------------\n",
      "申し訳ありませんが、このアプリケーションではゲームに関する情報を提供することはできません。代わりに、タスクに関する情報を提供できますので、どのようなタスクについて知りたいか教えていただけますか？\n",
      "------------------------------------------------------------\n",
      "納品物作成2いくつのタスクがありますか？\n",
      "------------------------------------------------------------\n",
      "納品物作成2に関連するタスクは、以下の3つです：\n",
      "\n",
      "1. 納品物作成2-1-1: Yonosukeデータ（年間累計課税支給額データ）作成\n",
      "2. 納品物作成2-1-2: Yonosukeの不要行の削除\n",
      "3. 納品物作成2-2-1: ★【給与】支給控除一覧データの雛形作成・振込先加工\n",
      "4. 納品物作成2-2-2: 当月退職者のデータ更新\n",
      "\n",
      "合計で4つのタスクがあります。\n",
      "------------------------------------------------------------\n"
     ]
    }
   ],
   "source": [
    "init_state[\"messages\"].append(HumanMessage(\"納品物作成2いくつのタスクがありますか？\"))\n",
    "res = graph.stream(init_state)\n",
    "for event in res:\n",
    "    pass\n",
    "for message in init_state['messages']:\n",
    "    print(message.content)\n",
    "    print(\"\".join(\"-\" for _ in range(60)))"
   ]
  },
  {
   "cell_type": "code",
   "execution_count": 20,
   "metadata": {},
   "outputs": [
    {
     "name": "stdout",
     "output_type": "stream",
     "text": [
      "全体のタスクを紹介してください\n",
      "------------------------------------------------------------\n",
      "このアプリケーションは、以下のタスクをサポートしています。\n",
      "\n",
      "1. **納品物作成1-1**: 4項目の数値更新を行います。\n",
      "2. **納品物作成1-2**: 不要行の削除および漢字変換を行います。\n",
      "3. **納品物作成2-1-1**: Yonosukeデータ（年間累計課税支給額データ）を作成します。\n",
      "4. **納品物作成2-1-2**: Yonosukeの不要行を削除します。\n",
      "5. **納品物作成2-2-1**: 【給与】支給控除一覧データの雛形作成および振込先加工を行います。\n",
      "6. **納品物作成2-2-2**: 当月退職者のデータを更新します。\n",
      "\n",
      "これらのタスクは、主にデータの管理や更新、不要な情報の整理に役立ちます。どのタスクに興味がありますか？\n",
      "------------------------------------------------------------\n",
      "納品物作成1-1をもっと紹介してください。\n",
      "------------------------------------------------------------\n",
      "納品物作成1-1は、4項目の数値を更新するためのタスクです。このタスクは、特定のデータセットに対して数値を正確に更新することを目的としています。主に、報告書や資料の納品物を作成する際に必要なデータの修正や更新を行います。これにより、最新の情報に基づいた納品物を作成することができ、業務の効率化や正確性を向上させることができます。\n",
      "\n",
      "このタスクを利用することで、データの整合性を保ちつつ、迅速に納品物を準備することが可能です。特に数値データの管理や更新が必要な場合には非常に便利です。\n",
      "------------------------------------------------------------\n",
      "なんのファイル必要ですか？\n",
      "------------------------------------------------------------\n",
      "このアプリケーションは、さまざまなタスクをサポートしています。具体的には、納品物の作成やデータの更新、不要行の削除、漢字の変換など、複数の作業を行うことができます。具体的なタスクについて知りたい場合は、さらに詳しく教えていただければと思います。\n",
      "------------------------------------------------------------\n",
      "納品物作成1-1はなんのファイル必要ですか？\n",
      "------------------------------------------------------------\n",
      "「納品物作成1-1」は、4項目の数値更新を行うタスクです。このタスクを実行するには、更新が必要な数値やデータが含まれた元のファイルが必要です。具体的には、更新対象の項目が明確に記載されたスプレッドシートやデータファイルが望ましいです。もし他に具体的な質問があればお知らせください。\n",
      "------------------------------------------------------------\n",
      "現在流行っているゲームを紹介してください\n",
      "------------------------------------------------------------\n",
      "申し訳ありませんが、このアプリケーションではゲームに関する情報を提供することはできません。代わりに、タスクに関する情報を提供できますので、どのようなタスクについて知りたいか教えていただけますか？\n",
      "------------------------------------------------------------\n",
      "納品物作成2いくつのタスクがありますか？\n",
      "------------------------------------------------------------\n",
      "納品物作成2に関連するタスクは、以下の3つです：\n",
      "\n",
      "1. 納品物作成2-1-1: Yonosukeデータ（年間累計課税支給額データ）作成\n",
      "2. 納品物作成2-1-2: Yonosukeの不要行の削除\n",
      "3. 納品物作成2-2-1: ★【給与】支給控除一覧データの雛形作成・振込先加工\n",
      "4. 納品物作成2-2-2: 当月退職者のデータ更新\n",
      "\n",
      "合計で4つのタスクがあります。\n",
      "------------------------------------------------------------\n",
      "では、納品物作成2-2-2を選びます。\n",
      "------------------------------------------------------------\n",
      "納品物作成2-2-2\n",
      "------------------------------------------------------------\n"
     ]
    }
   ],
   "source": [
    "init_state[\"messages\"].append(HumanMessage(\"では、納品物作成2-2-2を選びます。\"))\n",
    "res = graph.stream(init_state)\n",
    "for event in res:\n",
    "    pass\n",
    "for message in init_state['messages']:\n",
    "    print(message.content)\n",
    "    print(\"\".join(\"-\" for _ in range(60)))"
   ]
  }
 ],
 "metadata": {
  "kernelspec": {
   "display_name": "LLM_env",
   "language": "python",
   "name": "python3"
  },
  "language_info": {
   "codemirror_mode": {
    "name": "ipython",
    "version": 3
   },
   "file_extension": ".py",
   "mimetype": "text/x-python",
   "name": "python",
   "nbconvert_exporter": "python",
   "pygments_lexer": "ipython3",
   "version": "3.10.14"
  }
 },
 "nbformat": 4,
 "nbformat_minor": 2
}
