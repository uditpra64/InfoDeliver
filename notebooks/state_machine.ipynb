{
 "cells": [
  {
   "cell_type": "code",
   "execution_count": 3,
   "metadata": {},
   "outputs": [],
   "source": [
    "from transitions import Machine\n",
    "\n",
    "state_machine = Machine(states=[\"A\", \"B\", \"C\"], initial=\"A\")\n",
    "state_machine.add_ordered_transitions()"
   ]
  },
  {
   "cell_type": "code",
   "execution_count": 4,
   "metadata": {},
   "outputs": [
    {
     "name": "stdout",
     "output_type": "stream",
     "text": [
      "A\n"
     ]
    }
   ],
   "source": [
    "print(state_machine.state)"
   ]
  },
  {
   "cell_type": "code",
   "execution_count": 5,
   "metadata": {},
   "outputs": [
    {
     "name": "stdout",
     "output_type": "stream",
     "text": [
      "B\n"
     ]
    }
   ],
   "source": [
    "state_machine.next_state()\n",
    "print(state_machine.state)"
   ]
  },
  {
   "cell_type": "code",
   "execution_count": 7,
   "metadata": {},
   "outputs": [
    {
     "name": "stdout",
     "output_type": "stream",
     "text": [
      "<Transition('A', 'A')@140465214730640>\n",
      "<Transition('B', 'A')@140465214732032>\n",
      "<Transition('C', 'A')@140465214726944>\n",
      "<Transition('A', 'B')@140465214723104>\n",
      "<Transition('B', 'B')@140465214726128>\n",
      "<Transition('C', 'B')@140465214725552>\n",
      "<Transition('A', 'C')@140465214727136>\n",
      "<Transition('B', 'C')@140465214725168>\n",
      "<Transition('C', 'C')@140465214721376>\n",
      "<Transition('A', 'B')@140465214722528>\n",
      "<Transition('B', 'C')@140465214726800>\n",
      "<Transition('C', 'A')@140465214732224>\n"
     ]
    }
   ],
   "source": [
    "for transition in state_machine.get_transitions():\n",
    "    print(transition)"
   ]
  },
  {
   "cell_type": "code",
   "execution_count": null,
   "metadata": {},
   "outputs": [],
   "source": []
  }
 ],
 "metadata": {
  "kernelspec": {
   "display_name": "LLM_env",
   "language": "python",
   "name": "python3"
  },
  "language_info": {
   "codemirror_mode": {
    "name": "ipython",
    "version": 3
   },
   "file_extension": ".py",
   "mimetype": "text/x-python",
   "name": "python",
   "nbconvert_exporter": "python",
   "pygments_lexer": "ipython3",
   "version": "3.10.14"
  }
 },
 "nbformat": 4,
 "nbformat_minor": 2
}
